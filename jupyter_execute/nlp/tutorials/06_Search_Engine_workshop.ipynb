{
 "cells": [
  {
   "cell_type": "code",
   "execution_count": 1,
   "metadata": {
    "colab": {
     "base_uri": "https://localhost:8080/"
    },
    "id": "tAM5Qjum-7_n",
    "outputId": "913075ab-e5f3-44e1-b159-8d305b425bb5"
   },
   "outputs": [
    {
     "name": "stdout",
     "output_type": "stream",
     "text": [
      "--2024-09-30 18:12:01--  https://tufts.box.com/shared/static/325sgkodnq30ez61ugazvctif6r24hsu.csv\r\n",
      "Resolving tufts.box.com (tufts.box.com)... 74.112.186.157\r\n",
      "Connecting to tufts.box.com (tufts.box.com)|74.112.186.157|:443... "
     ]
    },
    {
     "name": "stdout",
     "output_type": "stream",
     "text": [
      "connected.\r\n",
      "HTTP request sent, awaiting response... "
     ]
    },
    {
     "name": "stdout",
     "output_type": "stream",
     "text": [
      "301 Moved Permanently\r\n",
      "Location: /public/static/325sgkodnq30ez61ugazvctif6r24hsu.csv [following]\r\n",
      "--2024-09-30 18:12:01--  https://tufts.box.com/public/static/325sgkodnq30ez61ugazvctif6r24hsu.csv\r\n",
      "Reusing existing connection to tufts.box.com:443.\r\n",
      "HTTP request sent, awaiting response... "
     ]
    },
    {
     "name": "stdout",
     "output_type": "stream",
     "text": [
      "301 Moved Permanently\r\n",
      "Location: https://tufts.app.box.com/public/static/325sgkodnq30ez61ugazvctif6r24hsu.csv [following]\r\n",
      "--2024-09-30 18:12:01--  https://tufts.app.box.com/public/static/325sgkodnq30ez61ugazvctif6r24hsu.csv\r\n",
      "Resolving tufts.app.box.com (tufts.app.box.com)... "
     ]
    },
    {
     "name": "stdout",
     "output_type": "stream",
     "text": [
      "74.112.186.157\r\n",
      "Connecting to tufts.app.box.com (tufts.app.box.com)|74.112.186.157|:443... connected.\r\n",
      "HTTP request sent, awaiting response... "
     ]
    },
    {
     "name": "stdout",
     "output_type": "stream",
     "text": [
      "302 Found\r\n"
     ]
    },
    {
     "name": "stdout",
     "output_type": "stream",
     "text": [
      "Location: https://public.boxcloud.com/d/1/b1!m-nMxs3ZEm6aIBiLgfjscpAS8iGFFordpTWJjPDVPhw0JkjUJ378fM0qLvjgy9QU89dJWHX2J-QSkbGY0trI2puIHTnYghg-4WMLWATv3g4xAYErvmAsob7puF3Bo6nBndFJZjdV_rmUgYmkEFC9qO9KC7nkvoSnHq45H6UwgxyX9dMvooBgudLW3_gAZ_OI_zNRqE_7lA7tCp1v9Y4kFtvWsfr9rVqmHqjcM3UC7PlVh2M4r-u5wM0GCzdVI3JEc8fG5PuGtT_FvJEWk3ifR4mQ-_1iMe20NrGe0E11CBN9vqVOzFMwrQ1uvQr5wZyQTTVouE0FZ2WYrvxLhb2w0yuf32KPOANhJ95_FqhFpNkJZCtDXi3d6tKg33zKNHkb06YVuplmMeAE5K-e6RnIu9rdxoAea8buqrove_4pS1C5aveR21p8YWkBe0pJdyymH6n_jc0LglA_oocPiNZzuIGZWg5yztMP4BvPHVoVq9eJg5oN5GKVh-V96me1O3u95QP33DXD-2XFzxg1zmjyHa_zbivT8Yrsg2gqrtNILwUvPOJEkuzgQwwHiJiS1jhNcJtUPSSUoiqzX4uT7Kh819h_C6uiEuHrvSjhsGYXDH2oaECO5OC6OMpqAxsrCYTXCHrBpNGFh1GoPzMS_1Gur_RBwzHOKacGTlTuTnqOOkcpbUS5uH3BICiC8XgcBW6FNSFyBUXBdFWIMIUWvglnErp6s06pk26mIbaYXoNdfW7QljZJCVRYLhH6opMmObLtAyj1tSDIC9YIFRYHMJvYr-SW-ruU5pQH3wuHkVNzyey3UsZyPPXFF5eiRMchUZBNkFrl2cVXpFpcOcJKrd9vnZIVOexyq658A1HjsqsHiO6b_kV0Bg52TRZI87upv2MSq7rALHkxPVAl50_UkNwouGGBkGWSMS3ENdZ7E8sWXnhkW1N_0ruiHO1iMgfNIK7kXsX56PUd3nn6AOiX-SFBFVafWW7h7vx1SWnY8oJKWuqQ85x7YVSsOgqo9nqBBQZ-51Xq2zLoyxgSPx25zts0bR9LDj3OdIUqMO-Rer_LnBqxiF_0ivTwm--Lgo9h0Z6f2D148e7PHXS0dYV8d26H1OilN5ovp2HlpIQ_Ph0TbIVuav0tIqOU7Htbz8_eT40vffiF3H7XLgA8f6rao6YB_DtKueuOY-b42x6EsOfU9IcdyzsF9pLBzRd2wXxMoiPeQ4FTEzax7meOg7dakXjrvB_Kk7SW6oIxW_YyM1dXpIEcRYHocyuZFwHrwsXSkxnO5a7pBDkEuJTkjlQzvgB-HZqTTj-I0d03NSurMkCX0jq4ZU4uIqG0PkeAgrAz0KEFCGE_aEaVSlEdJIrgq1TdCDlY4b1qnHlAguFS6A../download [following]\r\n",
      "--2024-09-30 18:12:01--  https://public.boxcloud.com/d/1/b1!m-nMxs3ZEm6aIBiLgfjscpAS8iGFFordpTWJjPDVPhw0JkjUJ378fM0qLvjgy9QU89dJWHX2J-QSkbGY0trI2puIHTnYghg-4WMLWATv3g4xAYErvmAsob7puF3Bo6nBndFJZjdV_rmUgYmkEFC9qO9KC7nkvoSnHq45H6UwgxyX9dMvooBgudLW3_gAZ_OI_zNRqE_7lA7tCp1v9Y4kFtvWsfr9rVqmHqjcM3UC7PlVh2M4r-u5wM0GCzdVI3JEc8fG5PuGtT_FvJEWk3ifR4mQ-_1iMe20NrGe0E11CBN9vqVOzFMwrQ1uvQr5wZyQTTVouE0FZ2WYrvxLhb2w0yuf32KPOANhJ95_FqhFpNkJZCtDXi3d6tKg33zKNHkb06YVuplmMeAE5K-e6RnIu9rdxoAea8buqrove_4pS1C5aveR21p8YWkBe0pJdyymH6n_jc0LglA_oocPiNZzuIGZWg5yztMP4BvPHVoVq9eJg5oN5GKVh-V96me1O3u95QP33DXD-2XFzxg1zmjyHa_zbivT8Yrsg2gqrtNILwUvPOJEkuzgQwwHiJiS1jhNcJtUPSSUoiqzX4uT7Kh819h_C6uiEuHrvSjhsGYXDH2oaECO5OC6OMpqAxsrCYTXCHrBpNGFh1GoPzMS_1Gur_RBwzHOKacGTlTuTnqOOkcpbUS5uH3BICiC8XgcBW6FNSFyBUXBdFWIMIUWvglnErp6s06pk26mIbaYXoNdfW7QljZJCVRYLhH6opMmObLtAyj1tSDIC9YIFRYHMJvYr-SW-ruU5pQH3wuHkVNzyey3UsZyPPXFF5eiRMchUZBNkFrl2cVXpFpcOcJKrd9vnZIVOexyq658A1HjsqsHiO6b_kV0Bg52TRZI87upv2MSq7rALHkxPVAl50_UkNwouGGBkGWSMS3ENdZ7E8sWXnhkW1N_0ruiHO1iMgfNIK7kXsX56PUd3nn6AOiX-SFBFVafWW7h7vx1SWnY8oJKWuqQ85x7YVSsOgqo9nqBBQZ-51Xq2zLoyxgSPx25zts0bR9LDj3OdIUqMO-Rer_LnBqxiF_0ivTwm--Lgo9h0Z6f2D148e7PHXS0dYV8d26H1OilN5ovp2HlpIQ_Ph0TbIVuav0tIqOU7Htbz8_eT40vffiF3H7XLgA8f6rao6YB_DtKueuOY-b42x6EsOfU9IcdyzsF9pLBzRd2wXxMoiPeQ4FTEzax7meOg7dakXjrvB_Kk7SW6oIxW_YyM1dXpIEcRYHocyuZFwHrwsXSkxnO5a7pBDkEuJTkjlQzvgB-HZqTTj-I0d03NSurMkCX0jq4ZU4uIqG0PkeAgrAz0KEFCGE_aEaVSlEdJIrgq1TdCDlY4b1qnHlAguFS6A../download\r\n",
      "Resolving public.boxcloud.com (public.boxcloud.com)... "
     ]
    },
    {
     "name": "stdout",
     "output_type": "stream",
     "text": [
      "74.112.186.165\r\n",
      "Connecting to public.boxcloud.com (public.boxcloud.com)|74.112.186.165|:443... "
     ]
    },
    {
     "name": "stdout",
     "output_type": "stream",
     "text": [
      "connected.\r\n",
      "HTTP request sent, awaiting response... "
     ]
    },
    {
     "name": "stdout",
     "output_type": "stream",
     "text": [
      "200 OK\r\n",
      "Length: 4643634 (4.4M) [text/csv]\r\n",
      "Saving to: ‘daf.csv’\r\n",
      "\r\n",
      "\r",
      "daf.csv               0%[                    ]       0  --.-KB/s               "
     ]
    },
    {
     "name": "stdout",
     "output_type": "stream",
     "text": [
      "\r",
      "daf.csv             100%[===================>]   4.43M  --.-KB/s    in 0.1s    \r\n",
      "\r\n",
      "2024-09-30 18:12:02 (43.9 MB/s) - ‘daf.csv’ saved [4643634/4643634]\r\n",
      "\r\n"
     ]
    }
   ],
   "source": [
    "!pip install whoosh paginate-whoosh streamlit -Uq\n",
    "!wget https://tufts.box.com/shared/static/325sgkodnq30ez61ugazvctif6r24hsu.csv -O daf.csv"
   ]
  },
  {
   "cell_type": "markdown",
   "metadata": {
    "id": "1dGo_JyX_CXL"
   },
   "source": [
    "# Creating a Search Engine for your own data using `Whoosh`\n",
    "\n",
    "No matter the discipline, scholars tend to accumulate a vast array of textual sources. Regardless of whether these are primary or seconrdary sources, researchers often need help wading through these sources and finding places where it's best to start digging into the text.\n",
    "\n",
    "In this notebook, we'll explore how to create and customize your own search engine so that you can easily and quickly search through your data. We will be using a Python library `Whoosh`, which implements indexing, complex logical queries and searching in pure Python, meaning that it doesn't require a compiler or Java. `Whoosh` is not a search engine itself, but rather a library that allows users to develop their own search engine.  "
   ]
  },
  {
   "cell_type": "markdown",
   "metadata": {
    "id": "rAG6znNYA_da"
   },
   "source": [
    "## Setting up the data\n",
    "\n",
    "In this section I'll download some data and put it into a form that is to easy index for `Whoosh`. In this notebook, we'll be searching through Edward Gibbon's *Decline and Fall of the Roman Empire*, a notoriously long and difficult book about the history of Europe from ~200 to ~1400 CE."
   ]
  },
  {
   "cell_type": "code",
   "execution_count": 2,
   "metadata": {
    "colab": {
     "base_uri": "https://localhost:8080/",
     "height": 424
    },
    "id": "Rshq8oz3_B6f",
    "outputId": "e53bed05-6ee7-47db-b324-233406194cc5"
   },
   "outputs": [
    {
     "data": {
      "text/html": [
       "<div>\n",
       "<style scoped>\n",
       "    .dataframe tbody tr th:only-of-type {\n",
       "        vertical-align: middle;\n",
       "    }\n",
       "\n",
       "    .dataframe tbody tr th {\n",
       "        vertical-align: top;\n",
       "    }\n",
       "\n",
       "    .dataframe thead th {\n",
       "        text-align: right;\n",
       "    }\n",
       "</style>\n",
       "<table border=\"1\" class=\"dataframe\">\n",
       "  <thead>\n",
       "    <tr style=\"text-align: right;\">\n",
       "      <th></th>\n",
       "      <th>title</th>\n",
       "      <th>text</th>\n",
       "    </tr>\n",
       "  </thead>\n",
       "  <tbody>\n",
       "    <tr>\n",
       "      <th>0</th>\n",
       "      <td>The Extent Of The Empire In The Age Of The Ant...</td>\n",
       "      <td>Introduction.       The Extent And Military Fo...</td>\n",
       "    </tr>\n",
       "    <tr>\n",
       "      <th>1</th>\n",
       "      <td>The Extent Of The Empire In The Age Of The Ant...</td>\n",
       "      <td>It was an ancient tradition, that when the Cap...</td>\n",
       "    </tr>\n",
       "    <tr>\n",
       "      <th>2</th>\n",
       "      <td>The Extent Of The Empire In The Age Of The Ant...</td>\n",
       "      <td>The camp of a Roman legion presented the appea...</td>\n",
       "    </tr>\n",
       "    <tr>\n",
       "      <th>3</th>\n",
       "      <td>The Internal Prosperity In The Age Of The Anto...</td>\n",
       "      <td>Of The Union And Internal Prosperity Of The Ro...</td>\n",
       "    </tr>\n",
       "    <tr>\n",
       "      <th>4</th>\n",
       "      <td>The Internal Prosperity In The Age Of The Anto...</td>\n",
       "      <td>Till the privileges of Romans had been progres...</td>\n",
       "    </tr>\n",
       "    <tr>\n",
       "      <th>...</th>\n",
       "      <td>...</td>\n",
       "      <td>...</td>\n",
       "    </tr>\n",
       "    <tr>\n",
       "      <th>291</th>\n",
       "      <td>Final Settlement Of The Ecclesiastical State.—...</td>\n",
       "      <td>Never perhaps has the energy and effect of a s...</td>\n",
       "    </tr>\n",
       "    <tr>\n",
       "      <th>292</th>\n",
       "      <td>Final Settlement Of The Ecclesiastical State.—...</td>\n",
       "      <td>Without drawing his sword, count Pepin restore...</td>\n",
       "    </tr>\n",
       "    <tr>\n",
       "      <th>293</th>\n",
       "      <td>Final Settlement Of The Ecclesiastical State.—...</td>\n",
       "      <td>The royal prerogative of coining money, which ...</td>\n",
       "    </tr>\n",
       "    <tr>\n",
       "      <th>294</th>\n",
       "      <td>Prospect Of The Ruins Of Rome In The Fifteenth...</td>\n",
       "      <td>Prospect Of The Ruins Of Rome In The Fifteenth...</td>\n",
       "    </tr>\n",
       "    <tr>\n",
       "      <th>295</th>\n",
       "      <td>Prospect Of The Ruins Of Rome In The Fifteenth...</td>\n",
       "      <td>These general observations may be separately a...</td>\n",
       "    </tr>\n",
       "  </tbody>\n",
       "</table>\n",
       "<p>296 rows × 2 columns</p>\n",
       "</div>"
      ],
      "text/plain": [
       "                                                 title  \\\n",
       "0    The Extent Of The Empire In The Age Of The Ant...   \n",
       "1    The Extent Of The Empire In The Age Of The Ant...   \n",
       "2    The Extent Of The Empire In The Age Of The Ant...   \n",
       "3    The Internal Prosperity In The Age Of The Anto...   \n",
       "4    The Internal Prosperity In The Age Of The Anto...   \n",
       "..                                                 ...   \n",
       "291  Final Settlement Of The Ecclesiastical State.—...   \n",
       "292  Final Settlement Of The Ecclesiastical State.—...   \n",
       "293  Final Settlement Of The Ecclesiastical State.—...   \n",
       "294  Prospect Of The Ruins Of Rome In The Fifteenth...   \n",
       "295  Prospect Of The Ruins Of Rome In The Fifteenth...   \n",
       "\n",
       "                                                  text  \n",
       "0    Introduction.       The Extent And Military Fo...  \n",
       "1    It was an ancient tradition, that when the Cap...  \n",
       "2    The camp of a Roman legion presented the appea...  \n",
       "3    Of The Union And Internal Prosperity Of The Ro...  \n",
       "4    Till the privileges of Romans had been progres...  \n",
       "..                                                 ...  \n",
       "291  Never perhaps has the energy and effect of a s...  \n",
       "292  Without drawing his sword, count Pepin restore...  \n",
       "293  The royal prerogative of coining money, which ...  \n",
       "294  Prospect Of The Ruins Of Rome In The Fifteenth...  \n",
       "295  These general observations may be separately a...  \n",
       "\n",
       "[296 rows x 2 columns]"
      ]
     },
     "execution_count": 2,
     "metadata": {},
     "output_type": "execute_result"
    }
   ],
   "source": [
    "import pandas as pd\n",
    "daf = pd.read_csv('daf.csv')[['title','text']]\n",
    "daf"
   ]
  },
  {
   "cell_type": "markdown",
   "metadata": {
    "id": "8quhsSI-Rmiw"
   },
   "source": [
    "I have this data already in a DataFrame or spreadsheet. However, this is not needed for `Whoosh`. Instead, I'm using this format as an easy way to store and access the data."
   ]
  },
  {
   "cell_type": "markdown",
   "metadata": {
    "id": "s6bGyZuySLqJ"
   },
   "source": [
    "## Indexing our data\n",
    "\n",
    "Now that we have some data to search through, we can begin indexing it. When it indexes text data, `Whoosh` creates a variety of files for us. These files contain tables which relate document names (in our case, the names of the chapters, the `title` column) to vectorized collections of words. Vectorization is the process of turning natural language into long lists of numbers so that we can conduct automated processes. There are a many ways to do this, so if you are interested, I recommend checking out the `Textual Feature Extraction using Traditional Machine Learning` workshop after this one.\n",
    "\n",
    "To index data in `Whoosh` we need a couple things in addition to our dawta:\n",
    "\n",
    "* An empty directory, where we can saved the files that `Whoosh` produces\n",
    "\n",
    "* We also need a **schema**, a list of names and data types that we give to `Whoosh` so that the indexer knows how to store our data\n",
    "\n",
    "See the example below."
   ]
  },
  {
   "cell_type": "code",
   "execution_count": 3,
   "metadata": {
    "id": "VTa_AD39Q1VR"
   },
   "outputs": [],
   "source": [
    "# designing a schema\n",
    "# we have two fields, title and text, both strings, so this will be a relatively simple schema\n",
    "\n",
    "from whoosh.fields import Schema, TEXT, KEYWORD, ID, STORED\n",
    "from whoosh.analysis import StemmingAnalyzer\n",
    "\n",
    "schema = Schema(\n",
    "    title = ID(stored=True),\n",
    "    text = TEXT(analyzer=StemmingAnalyzer(), stored=True) # (optional) applies stemming to the text -> run, running, ran are all found when searching for \"run\"\n",
    ")"
   ]
  },
  {
   "cell_type": "code",
   "execution_count": 4,
   "metadata": {
    "id": "rGr5yNJiYKih"
   },
   "outputs": [],
   "source": [
    "# now that we have a schema we can index our text\n",
    "import os\n",
    "from whoosh import index\n",
    "\n",
    "if not os.path.exists(\"daf_index\"): # creates an empty directory\n",
    "    os.mkdir(\"daf_index\")\n",
    "\n",
    "ix = index.create_in(\"daf_index\", schema)"
   ]
  },
  {
   "cell_type": "markdown",
   "metadata": {
    "id": "Vb6N-_aBev19"
   },
   "source": [
    "*Nota bene*: When you create an index as we have in the last line of the cell above that directory is now classified as an `FileIndex` type object. This means that if you need to start over, you'll need to **delete this folder and make it again**. Sometimes, this can be confusing, especially because the error doesn't give you much guidance."
   ]
  },
  {
   "cell_type": "code",
   "execution_count": 5,
   "metadata": {
    "id": "2uZ9MiZifAER"
   },
   "outputs": [],
   "source": [
    "writer = ix.writer() # allows us to add documents\n",
    "for i, row in daf.iterrows(): # looping through our data\n",
    "    writer.add_document(title=row['title'], text=row['text']) # adding each row to our index\n",
    "\n",
    "writer.commit() # commits the added documents"
   ]
  },
  {
   "cell_type": "markdown",
   "metadata": {
    "id": "YnVbn6C9fuUP"
   },
   "source": [
    "## Search our data\n",
    "\n",
    "With our completed index, we can begin searching through our data. `Whoosh` provides many options for searching including boolean operators (AND, OR, NOT) applying the stemmer we used when indexing."
   ]
  },
  {
   "cell_type": "code",
   "execution_count": 6,
   "metadata": {
    "colab": {
     "base_uri": "https://localhost:8080/"
    },
    "id": "VoIGkLTOfga9",
    "outputId": "63dcadf5-9953-4e39-ad6f-d2f90e325918"
   },
   "outputs": [
    {
     "name": "stdout",
     "output_type": "stream",
     "text": [
      "Result 1\n",
      "The Crusades.—Part I.\n",
      "('Preservation Of The Greek Empire.—Numbers, Passage, And Event, Of      The '\n",
      " 'Second And Third Crusades.—St. Bernard.— Reign Of Saladin In      Egypt And '\n",
      " 'Syria.—His Conquest Of Jerusalem.—Naval      Crusades.—Richard The First Of '\n",
      " 'England.— Pope Innocent The Third;      And The Fourth And Fifth Crusades.— '\n",
      " 'The Emperor Frederic The      Second.—Louis The Ninth Of France; And The Two '\n",
      " 'Last      Crusades.—Expulsion Of The Latins Or Franks By The Mamelukes.   In '\n",
      " 'a style less grave than that of history, I should perhaps compare the '\n",
      " 'emperor Alexius               In the twelfth century, three great '\n",
      " 'emigrations marched by land from the West for the relief of Palestine. The '\n",
      " 'soldiers and pilgrims of Lombardy, France, and Germany were excited by the '\n",
      " 'example and success of the first crusade.       I. Of the swarms that so '\n",
      " 'closely trod in the footsteps of the first pilgrims, the chiefs were equal '\n",
      " 'in rank, though unequal in fame and merit, to Godfrey of Bouillon and his '\n",
      " 'fellow-adventurers. At their head were displayed the banners of the dukes of '\n",
      " 'Burgundy, Bavaria, and Aquitain; the first a descendant of Hugh Capet, the '\n",
      " 'second, a father of the Brunswick line: the archbishop of Milan, a temporal '\n",
      " 'prince, transported, for the benefit of the Turks, the treasures and '\n",
      " 'ornaments of his church and palace; and the veteran crusaders, Hugh the '\n",
      " 'Great and Stephen of Chartres, returned to consummate their unfinished vow. '\n",
      " 'The huge and disorderly bodies of their followers moved forward in two '\n",
      " 'columns; and if the first consisted of two hundred and sixty thousand '\n",
      " 'persons, the second might possibly amount to sixty thousand horse and one '\n",
      " 'hundred thousand foot.             II. The number and character of the '\n",
      " 'strangers was an object of terror to the effeminate Greeks, and the '\n",
      " 'sentiment of fear is nearly allied to that of hatred. This aversion was '\n",
      " 'suspended or softened by the apprehension of the Turkish power; and the '\n",
      " 'invectives of the Latins will not bias our more candid belief, that the '\n",
      " 'emperor Alexius dissembled their insolence, eluded their hostilities, '\n",
      " 'counselled their rashness, and opened to their ardor the road of pilgrimage '\n",
      " 'and conquest. But when the Turks had been driven from Nice and the '\n",
      " 'sea-coast, when the Byzantine princes no longer dreaded the distant sultans '\n",
      " 'of Cogni, they felt with purer indignation the free and frequent passage of '\n",
      " 'the western Barbarians, who violated the majesty, and endangered the safety, '\n",
      " 'of the empire. The second and third crusades were undertaken under the reign '\n",
      " 'of Manuel Comnenus and Isaac Angelus. Of the former, the passions were '\n",
      " 'always impetuous, and often malevolent; and the natural union of a cowardly '\n",
      " 'and a mischievous temper was exemplified in the latter, who, without merit '\n",
      " 'or mercy, could punish a tyrant, and occupy his throne. It was secretly, and '\n",
      " 'perhaps tacitly, resolved by the prince and people to destroy, or at least '\n",
      " 'to discourage, the pilgrims, by every species of injury and oppression; and '\n",
      " 'their want of prudence and discipline continually afforded the pretence or '\n",
      " 'the opportunity. The Western monarchs had stipulated a safe passage and fair '\n",
      " 'market in the country of their Christian brethren; the treaty had been '\n",
      " 'ratified by oaths and hostages; and the poorest soldier of Frederic’s army '\n",
      " 'was furnished with three marks of silver to defray his expenses on the road. '\n",
      " 'But every engagement was violated by treachery and injustice; and the '\n",
      " 'complaints of the Latins are attested by the honest confession of a Greek '\n",
      " 'historian, who has dared to prefer truth to his country.           III. The '\n",
      " 'swarms that followed the first crusade were destroyed in Anatolia by famine, '\n",
      " 'pestilence, and the Turkish arrows; and the princes only escaped with some '\n",
      " 'squadrons of horse to accomplish their lamentable pilgrimage. A just opinion '\n",
      " 'may be formed of their knowledge and humanity; of their knowledge, from the '\n",
      " 'design of subduing Persia and Chorasan in their way to '\n",
      " 'Jerusalem;                     The enthusiasm of the first crusade is a '\n",
      " 'natural and simple event, while hope was fresh, danger untried, and '\n",
      " 'enterprise congenial to the spirit of the times. But the obstinate '\n",
      " 'perseverance of Europe may indeed excite our pity and admiration; that no '\n",
      " 'instruction should have been drawn from constant and adverse experience; '\n",
      " 'that the same confidence should have repeatedly grown from the same '\n",
      " 'failures; that six succeeding generations should have rushed headlong down '\n",
      " 'the precipice that was open before them; and that men of every condition '\n",
      " 'should have staked their public and private fortunes on the desperate '\n",
      " 'adventure of possessing or recovering a tombstone two thousand miles from '\n",
      " 'their country. In a period of two centuries after the council of Clermont, '\n",
      " 'each spring and summer produced a new emigration of pilgrim warriors for the '\n",
      " 'defence of the Holy Land; but the seven great armaments or crusades were '\n",
      " 'excited by some impending or recent calamity: the nations were moved by the '\n",
      " 'authority of their pontiffs, and the example of their kings: their zeal was '\n",
      " 'kindled, and their reason was silenced, by the voice of their holy orators; '\n",
      " 'and among these, Bernard,                     Omnipotence itself cannot '\n",
      " 'escape the murmurs of its discordant votaries; since the same dispensation '\n",
      " 'which was applauded as a deliverance in Europe, was deplored, and perhaps '\n",
      " 'arraigned, as a calamity in Asia. After the loss of Jerusalem, the Syrian '\n",
      " 'fugitives diffused their consternation and sorrow; Bagdad mourned in the '\n",
      " 'dust; the cadhi Zeineddin of Damascus tore his beard in the caliph’s '\n",
      " 'presence; and the whole divan shed tears at his melancholy tale.           ')\n",
      "----------------------------------------\n",
      "Result 2\n",
      "The Crusades.—Part III.\n",
      "('Philip Augustus, and Richard the First, are the only kings of France and '\n",
      " 'England who have fought under the same banners; but the holy service in '\n",
      " 'which they were enlisted was incessantly disturbed by their national '\n",
      " 'jealousy; and the two factions, which they protected in Palestine, were more '\n",
      " 'averse to each other than to the common enemy. In the eyes of the Orientals; '\n",
      " 'the French monarch was superior in dignity and power; and, in the emperor’s '\n",
      " 'absence, the Latins revered him as their temporal chief.                 '\n",
      " 'During these hostilities, a languid and tedious negotiation         The '\n",
      " 'noblest monument of a conqueror’s fame, and of the terror which he inspired, '\n",
      " 'is the Saladine tenth, a general tax which was imposed on the laity, and '\n",
      " 'even the clergy, of the Latin church, for the service of the holy war. The '\n",
      " 'practice was too lucrative to expire with the occasion: and this tribute '\n",
      " 'became the foundation of all the tithes and tenths on ecclesiastical '\n",
      " 'benefices, which have been granted by the Roman pontiffs to Catholic '\n",
      " 'sovereigns, or reserved for the immediate use of the apostolic '\n",
      " 'see.           The persons, the families, and estates of the pilgrims, were '\n",
      " 'under the immediate protection of the popes; and these spiritual patrons '\n",
      " 'soon claimed the prerogative of directing their operations, and enforcing, '\n",
      " 'by commands and censures, the accomplishment of their vow. Frederic the '\n",
      " 'Second,           Of the seven crusades, the two last were undertaken by '\n",
      " 'Louis the Ninth, king of France; who lost his liberty in Egypt, and his life '\n",
      " 'on the coast of Africa. Twenty-eight years after his death, he was canonized '\n",
      " 'at Rome; and sixty-five miracles were readily found, and solemnly attested, '\n",
      " 'to justify the claim of the royal saint.         In complete armor, the '\n",
      " 'oriflamme waving before him, Louis leaped foremost on the beach; and the '\n",
      " 'strong city of Damietta, which had cost his predecessors a siege of sixteen '\n",
      " 'months, was abandoned on the first assault by the trembling Moslems. But '\n",
      " 'Damietta was the first and the last of his conquests; and in the fifth and '\n",
      " 'sixth crusades, the same causes, almost on the same ground, were productive '\n",
      " 'of similar calamities.         The memory of his defeat excited Louis, after '\n",
      " 'sixteen years of wisdom and repose, to undertake the seventh and last of the '\n",
      " 'crusades. His finances were restored, his kingdom was enlarged; a new '\n",
      " 'generation of warriors had arisen, and he advanced with fresh confidence at '\n",
      " 'the head of six thousand horse and thirty thousand foot. The loss of Antioch '\n",
      " 'had provoked the enterprise; a wild hope of baptizing the king of Tunis '\n",
      " 'tempted him to steer for the African coast; and the report of an immense '\n",
      " 'treasure reconciled his troops to the delay of their voyage to the Holy '\n",
      " 'Land. Instead of a proselyte, he found a siege: the French panted and died '\n",
      " 'on the burning sands: St. Louis expired in his tent; and no sooner had he '\n",
      " 'closed his eyes, than his son and successor gave the signal of the '\n",
      " 'retreat.     A more unjust and absurd constitution cannot be devised than '\n",
      " 'that which condemns the natives of a country to perpetual servitude, under '\n",
      " 'the arbitrary dominion of strangers and slaves. Yet such has been the state '\n",
      " 'of Egypt above five hundred years. The most illustrious sultans of the '\n",
      " 'Baharite and Borgite dynasties                 After the loss of Jerusalem, '\n",
      " 'Acre,   ')\n",
      "----------------------------------------\n",
      "Result 3\n",
      "The First Crusade.—Part II.\n",
      "('Of the chiefs and soldiers who marched to the holy sepulchre, I will dare to '\n",
      " 'affirm, that all were prompted by the spirit of enthusiasm; the belief of '\n",
      " 'merit, the hope of reward, and the assurance of divine aid. But I am equally '\n",
      " 'persuaded, that in many it was not the sole, that in some it was not the '\n",
      " 'leading, principle of action. The use and abuse of religion are feeble to '\n",
      " 'stem, they are strong and irresistible to impel, the stream of national '\n",
      " 'manners. Against the private wars of the Barbarians, their bloody '\n",
      " 'tournaments, licentious love, and judicial duels, the popes and synods might '\n",
      " 'ineffectually thunder. It is a more easy task to provoke the metaphysical '\n",
      " 'disputes of the Greeks, to drive into the cloister the victims of anarchy or '\n",
      " 'despotism, to sanctify the patience of slaves and cowards, or to assume the '\n",
      " 'merit of the humanity and benevolence of modern Christians. War and exercise '\n",
      " 'were the reigning passions of the Franks or Latins; they were enjoined, as a '\n",
      " 'penance, to gratify those passions, to visit distant lands, and to draw '\n",
      " 'their swords against the nation of the East. Their victory, or even their '\n",
      " 'attempt, would immortalize the names of the intrepid heroes of the cross; '\n",
      " 'and the purest piety could not be insensible to the most splendid prospect '\n",
      " 'of military glory. In the petty quarrels of Europe, they shed the blood of '\n",
      " 'their friends and countrymen, for the acquisition perhaps of a castle or a '\n",
      " 'village. They could march with alacrity against the distant and hostile '\n",
      " 'nations who were devoted to their arms; their fancy already grasped the '\n",
      " 'golden sceptres of Asia; and the conquest of Apulia and Sicily by the '\n",
      " 'Normans might exalt to royalty the hopes of the most private adventurer. '\n",
      " 'Christendom, in her rudest state, must have yielded to the climate and '\n",
      " 'cultivation of the Mahometan countries; and their natural and artificial '\n",
      " 'wealth had been magnified by the tales of pilgrims, and the gifts of an '\n",
      " 'imperfect commerce. The vulgar, both the great and small, were taught to '\n",
      " 'believe every wonder, of lands flowing with milk and honey, of mines and '\n",
      " 'treasures, of gold and diamonds, of palaces of marble and jasper, and of '\n",
      " 'odoriferous groves of cinnamon and frankincense. In this earthly paradise, '\n",
      " 'each warrior depended on his sword to carve a plenteous and honorable '\n",
      " 'establishment, which he measured only by the extent of his wishes.       '\n",
      " 'These motives were potent and numerous: when we have singly computed their '\n",
      " 'weight on the mind of each individual, we must add the infinite series, the '\n",
      " 'multiplying powers, of example and fashion. The first proselytes became the '\n",
      " 'warmest and most effectual missionaries of the cross: among their friends '\n",
      " 'and countrymen they preached the duty, the merit, and the recompense, of '\n",
      " 'their holy vow; and the most reluctant hearers were insensibly drawn within '\n",
      " 'the whirlpool of persuasion and authority. The martial youths were fired by '\n",
      " 'the reproach or suspicion of cowardice; the opportunity of visiting with an '\n",
      " 'army the sepulchre of Christ was embraced by the old and infirm, by women '\n",
      " 'and children, who consulted rather their zeal than their strength; and those '\n",
      " 'who in the evening had derided the folly of their companions, were the most '\n",
      " 'eager, the ensuing day, to tread in their footsteps. The ignorance, which '\n",
      " 'magnified the hopes, diminished the perils, of the enterprise. Since the '\n",
      " 'Turkish conquest, the paths of pilgrimage were obliterated; the chiefs '\n",
      " 'themselves had an imperfect notion of the length of the way and the state of '\n",
      " 'their enemies; and such was the stupidity of the people, that, at the sight '\n",
      " 'of the first city or castle beyond the limits of their knowledge, they were '\n",
      " 'ready to ask whether that was not the Jerusalem, the term and object of '\n",
      " 'their labors. Yet the more prudent of the crusaders, who were not sure that '\n",
      " 'they should be fed from heaven with a shower of quails or manna, provided '\n",
      " 'themselves with those precious metals, which, in every country, are the '\n",
      " 'representatives of every commodity. To defray, according to their rank, the '\n",
      " 'expenses of the road, princes alienated their provinces, nobles their lands '\n",
      " 'and castles, peasants their cattle and the instruments of husbandry. The '\n",
      " 'value of property was depreciated by the eager competition of multitudes; '\n",
      " 'while the price of arms and horses was raised to an exorbitant height by the '\n",
      " 'wants and impatience of the buyers.     The fifteenth of August had been '\n",
      " 'fixed in the council of Clermont for the departure of the pilgrims; but the '\n",
      " 'day was anticipated by the thoughtless and needy crowd of plebeians, and I '\n",
      " 'shall briefly despatch the calamities which they inflicted and suffered, '\n",
      " 'before I enter on the more serious and successful enterprise of the chiefs. '\n",
      " 'Early in the spring, from the confines of France and Lorraine, above sixty '\n",
      " 'thousand of the populace of both sexes flocked round the first missionary of '\n",
      " 'the crusade, and pressed him with clamorous importunity to lead them to the '\n",
      " 'holy sepulchre. The hermit, assuming the character, without the talents or '\n",
      " 'authority, of a general, impelled or obeyed the forward impulse of his '\n",
      " 'votaries along the banks of the Rhine and Danube. Their wants and numbers '\n",
      " 'soon compelled them to separate, and his lieutenant, Walter the Penniless, a '\n",
      " 'valiant though needy soldier, conducted a van guard of pilgrims, whose '\n",
      " 'condition may be determined from the proportion of eight horsemen to fifteen '\n",
      " 'thousand foot. The example and footsteps of Peter were closely pursued by '\n",
      " 'another fanatic, the monk Godescal, whose sermons had swept away fifteen or '\n",
      " 'twenty thousand peasants from the villages of Germany. Their rear was again '\n",
      " 'pressed by a herd of two hundred thousand, the most stupid and savage refuse '\n",
      " 'of the people, who mingled with their devotion a brutal license of rapine, '\n",
      " 'prostitution, and drunkenness. Some counts and gentlemen, at the head of '\n",
      " 'three thousand horse, attended the motions of the multitude to partake in '\n",
      " 'the spoil; but their genuine leaders (may we credit such folly?) were a '\n",
      " 'goose and a goat, who were carried in the front, and to whom these worthy '\n",
      " 'Christians ascribed an infusion of the divine spirit.       Between the '\n",
      " 'frontiers of Austria and the seat of the Byzantine monarchy, the crusaders '\n",
      " 'were compelled to traverse as interval of six hundred miles; the wild and '\n",
      " 'desolate countries of Hungary             “To save time and space, I shall '\n",
      " 'represent, in a short table, the particular references to the great events '\n",
      " 'of the first crusade.”      [See Table                         ')\n",
      "----------------------------------------\n",
      "Result 4\n",
      "Schism Of The Greeks And Latins.—Part I.\n",
      "('Schism Of The Greeks And Latins.—Reign And Character Of Amurath      The '\n",
      " 'Second.—Crusade Of Ladislaus, King Of Hungary.— His Defeat And      '\n",
      " 'Death.—John Huniades.—Scanderbeg.— Constantine Palæologus, Last      Emperor '\n",
      " 'Of The East.  The respective merits of Rome and Constantinople are compared '\n",
      " 'and celebrated by an eloquent Greek, the father of the Italian '\n",
      " 'schools.         The last hope of the falling city and empire was placed in '\n",
      " 'the harmony of the mother and daughter, in the maternal tenderness of Rome, '\n",
      " 'and the filial obedience of Constantinople. In the synod of Florence, the '\n",
      " 'Greeks and Latins had embraced, and subscribed, and promised; but these '\n",
      " 'signs of friendship were perfidious or fruitless;     The schism was not '\n",
      " 'confined to the narrow limits of the Byzantine empire. Secure under the '\n",
      " 'Mamaluke sceptre, the three patriarchs of Alexandria, Antioch, and '\n",
      " 'Jerusalem, assembled a numerous synod; disowned their representatives at '\n",
      " 'Ferrara and Florence; condemned the creed and council of the Latins; and '\n",
      " 'threatened the emperor of Constantinople with the censures of the Eastern '\n",
      " 'church. Of the sectaries of the Greek communion, the Russians were the most '\n",
      " 'powerful, ignorant, and superstitious. Their primate, the cardinal Isidore, '\n",
      " 'hastened from Florence to Moscow,         “Sultan Murad, or Amurath, lived '\n",
      " 'forty-nine, and reigned thirty years, six months, and eight days. He was a '\n",
      " 'just and valiant prince, of a great soul, patient of labors, learned, '\n",
      " 'merciful, religious, charitable; a lover and encourager of the studious, and '\n",
      " 'of all who excelled in any art or science; a good emperor and a great '\n",
      " 'general. No man obtained more or greater victories than Amurath; Belgrade '\n",
      " 'alone withstood his attacks.       But the most striking feature in the life '\n",
      " 'and character of Amurath is the double abdication of the Turkish throne; '\n",
      " 'and, were not his motives debased by an alloy of superstition, we must '\n",
      " 'praise the royal philosopher,         After the departure of his Greek '\n",
      " 'brethren, Eugenius had not been unmindful of their temporal interest; and '\n",
      " 'his tender regard for the Byzantine empire was animated by a just '\n",
      " 'apprehension of the Turks, who approached, and might soon invade, the '\n",
      " 'borders of Italy. But the spirit of the crusades had expired; and the '\n",
      " 'coldness of the Franks was not less unreasonable than their headlong '\n",
      " 'passion. In the eleventh century, a fanatic monk could precipitate Europe on '\n",
      " 'Asia for the recovery of the holy sepulchre; but in the fifteenth, the most '\n",
      " 'pressing motives of religion and policy were insufficient to unite the '\n",
      " 'Latins in the defence of Christendom. Germany was an inexhaustible '\n",
      " 'storehouse of men and arms:             Of the Polish and Hungarian diets, a '\n",
      " 'religious war was the unanimous cry; and Ladislaus, after passing the '\n",
      " 'Danube, led an army of his confederate subjects as far as Sophia, the '\n",
      " 'capital of the Bulgarian kingdom. In this expedition they obtained two '\n",
      " 'signal victories, which were justly ascribed to the valor and conduct of '\n",
      " 'Huniades. In the first, with a vanguard of ten thousand men, he surprised '\n",
      " 'the Turkish camp; in the second, he vanquished and made prisoner the most '\n",
      " 'renowned of their generals, who possessed the double advantage of ground and '\n",
      " 'numbers. The approach of winter, and the natural and artificial obstacles of '\n",
      " 'Mount Hæmus, arrested the progress of the hero, who measured a narrow '\n",
      " 'interval of six days’ march from the foot of the mountains to the hostile '\n",
      " 'towers of Adrianople, and the friendly capital of the Greek empire. The '\n",
      " 'retreat was undisturbed; and the entrance into Buda was at once a military '\n",
      " 'and religious triumph. An ecclesiastical procession was followed by the king '\n",
      " 'and his warriors on foot: he nicely balanced the merits and rewards of the '\n",
      " 'two nations; and the pride of conquest was blended with the humble temper of '\n",
      " 'Christianity. Thirteen bashaws, nine standards, and four thousand captives, '\n",
      " 'were unquestionable trophies; and as all were willing to believe, and none '\n",
      " 'were present to contradict, the crusaders multiplied, with unblushing '\n",
      " 'confidence, the myriads of Turks whom they had left on the field of '\n",
      " 'battle.     During the whole transaction, the cardinal legate had observed a '\n",
      " 'sullen silence, unwilling to approve, and unable to oppose, the consent of '\n",
      " 'the king and people. But the diet was not dissolved before Julian was '\n",
      " 'fortified by the welcome intelligence, that Anatolia was invaded by the '\n",
      " 'Caramanian, and Thrace by the Greek emperor; that the fleets of Genoa, '\n",
      " 'Venice, and Burgundy, were masters of the Hellespont; and that the allies, '\n",
      " 'informed of the victory, and ignorant of the treaty, of Ladislaus, '\n",
      " 'impatiently waited for the return of his victorious army. “And is it thus,” '\n",
      " 'exclaimed the cardinal,   ')\n",
      "----------------------------------------\n",
      "Result 5\n",
      "Partition Of The Empire By The French And Venetians.—Part III.\n",
      "('But in this abject distress, the emperor and empire were still possessed of '\n",
      " 'an ideal treasure, which drew its fantastic value from the superstition of '\n",
      " 'the Christian world. The merit of the true cross was somewhat impaired by '\n",
      " 'its frequent division; and a long captivity among the infidels might shed '\n",
      " 'some suspicion on the fragments that were produced in the East and West. But '\n",
      " 'another relic of the Passion was preserved in the Imperial chapel of '\n",
      " 'Constantinople; and the crown of thorns which had been placed on the head of '\n",
      " 'Christ was equally precious and authentic. It had formerly been the practice '\n",
      " 'of the Egyptian debtors to deposit, as a security, the mummies of their '\n",
      " 'parents; and both their honor and religion were bound for the redemption of '\n",
      " 'the pledge. In the same manner, and in the absence of the emperor, the '\n",
      " 'barons of Romania borrowed the sum of thirteen thousand one hundred and '\n",
      " 'thirty-four pieces of gold           The Latins of Constantinople       '\n",
      " 'Intent on his great object, the emperor Michael visited in person and '\n",
      " 'strengthened the troops and fortifications of Thrace. The remains of the '\n",
      " 'Latins were driven from their last possessions: he assaulted without success '\n",
      " 'the suburb of Galata; and corresponded with a perfidious baron, who proved '\n",
      " 'unwilling, or unable, to open the gates of the metropolis. The next spring, '\n",
      " 'his favorite general, Alexius Strategopulus, whom he had decorated with the '\n",
      " 'title of Cæsar, passed the Hellespont with eight hundred horse and some '\n",
      " 'infantry,             After this narrative of the expeditions of the Latins '\n",
      " 'to Palestine and Constantinople, I cannot dismiss the subject without '\n",
      " 'resolving the general consequences on the countries that were the scene, and '\n",
      " 'on the nations that were the actors, of these memorable crusades.     If we '\n",
      " 'compare the æra of the crusades, the Latins of Europe with the Greeks and '\n",
      " 'Arabians, their respective degrees of knowledge, industry, and art, our rude '\n",
      " 'ancestors must be content with the third rank in the scale of nations. Their '\n",
      " 'successive improvement and present superiority may be ascribed to a peculiar '\n",
      " 'energy of character, to an active and imitative spirit, unknown to their '\n",
      " 'more polished rivals, who at that time were in a stationary or retrograde '\n",
      " 'state. With such a disposition, the Latins should have derived the most '\n",
      " 'early and essential benefits from a series of events which opened to their '\n",
      " 'eyes the prospect of the world, and introduced them to a long and frequent '\n",
      " 'intercourse with the more cultivated regions of the East. The first and most '\n",
      " 'obvious progress was in trade and manufactures, in the arts which are '\n",
      " 'strongly prompted by the thirst of wealth, the calls of necessity, and the '\n",
      " 'gratification of the sense or vanity. Among the crowd of unthinking '\n",
      " 'fanatics, a captive or a pilgrim might sometimes observe the superior '\n",
      " 'refinements of Cairo and Constantinople: the first importer of '\n",
      " 'windmills     ')\n",
      "----------------------------------------\n",
      "Result 6\n",
      "The First Crusade.—Part I.\n",
      "('Origin And Numbers Of The First Crusade.—Characters Of The Latin      '\n",
      " 'Princes.—Their March To Constantinople.—Policy Of The Greek      Emperor '\n",
      " 'Alexius.—Conquest Of Nice, Antioch, And Jerusalem, By The      '\n",
      " 'Franks.—Deliverance Of The Holy Sepulchre.— Godfrey Of Bouillon,      First '\n",
      " 'King Of Jerusalem.—Institutions Of The French Or Latin      Kingdom.  About '\n",
      " 'twenty years after the conquest of Jerusalem by the Turks, the holy '\n",
      " 'sepulchre was visited by a hermit of the name of Peter, a native of Amiens, '\n",
      " 'in the province of Picardy         The magnanimous spirit of Gregory the '\n",
      " 'Seventh had already embraced the design of arming Europe against Asia; the '\n",
      " 'ardor of his zeal and ambition still breathes in his epistles: from either '\n",
      " 'side of the Alps, fifty thousand Catholics had enlisted under the banner of '\n",
      " 'St. Peter;                 It may occasion some surprise that the Roman '\n",
      " 'pontiff should erect, in the heart of France, the tribunal from whence he '\n",
      " 'hurled his anathemas against the king; but our surprise will vanish so soon '\n",
      " 'as we form a just estimate of a king of France of the eleventh '\n",
      " 'century.                   So familiar, and as it were so natural to man, is '\n",
      " 'the practice of violence, that our indulgence allows the slightest '\n",
      " 'provocation, the most disputable right, as a sufficient ground of national '\n",
      " 'hostility. But the name and nature of a holy war demands a more rigorous '\n",
      " 'scrutiny; nor can we hastily believe, that the servants of the Prince of '\n",
      " 'Peace would unsheathe the sword of destruction, unless the motive were pure, '\n",
      " 'the quarrel legitimate, and the necessity inevitable. The policy of an '\n",
      " 'action may be determined from the tardy lessons of experience; but, before '\n",
      " 'we act, our conscience should be satisfied of the justice and propriety of '\n",
      " 'our enterprise. In the age of the crusades, the Christians, both of the East '\n",
      " 'and West, were persuaded of their lawfulness and merit; their arguments are '\n",
      " 'clouded by the perpetual abuse of Scripture and rhetoric; but they seem to '\n",
      " 'insist on the right of natural and religious defence, their peculiar title '\n",
      " 'to the Holy Land, and the impiety of their Pagan and Mahometan foes.     II. '\n",
      " 'Palestine could add nothing to the strength or safety of the Latins; and '\n",
      " 'fanaticism alone could pretend to justify the conquest of that distant and '\n",
      " 'narrow province. The Christians affirmed that their inalienable title to the '\n",
      " 'promised land had been sealed by the blood of their divine Savior; it was '\n",
      " 'their right and duty to rescue their inheritance from the unjust possessors, '\n",
      " 'who profaned his sepulchre, and oppressed the pilgrimage of his disciples. '\n",
      " 'Vainly would it be alleged that the preeminence of Jerusalem, and the '\n",
      " 'sanctity of Palestine, have been abolished with the Mosaic law; that the God '\n",
      " 'of the Christians is not a local deity, and that the recovery of Bethlem or '\n",
      " 'Calvary, his cradle or his tomb, will not atone for the violation of the '\n",
      " 'moral precepts of the gospel. Such arguments glance aside from the leaden '\n",
      " 'shield of superstition; and the religious mind will not easily relinquish '\n",
      " 'its hold on the sacred ground of mystery and miracle.  III. But the holy '\n",
      " 'wars which have been waged in every climate of the globe, from Egypt to '\n",
      " 'Livonia, and from Peru to Hindostan, require the support of some more '\n",
      " 'general and flexible tenet. It has been often supposed, and sometimes '\n",
      " 'affirmed, that a difference of religion is a worthy cause of hostility; that '\n",
      " 'obstinate unbelievers may be slain or subdued by the champions of the cross; '\n",
      " 'and that grace is the sole fountain of dominion as well as of mercy.     As '\n",
      " 'the manners of the Christians were relaxed, their discipline of '\n",
      " 'penance               ')\n",
      "----------------------------------------\n",
      "Result 7\n",
      "The First Crusade.—Part IV.\n",
      "('I have expiated with pleasure on the first steps of the crusaders, as they '\n",
      " 'paint the manners and character of Europe: but I shall abridge the tedious '\n",
      " 'and uniform narrative of their blind achievements, which were performed by '\n",
      " 'strength and are described by ignorance. From their first station in the '\n",
      " 'neighborhood of Nicomedia, they advanced in successive divisions; passed the '\n",
      " 'contracted limit of the Greek empire; opened a road through the hills, and '\n",
      " 'commenced, by the siege of his capital, their pious warfare against the '\n",
      " 'Turkish sultan. His kingdom of Roum extended from the Hellespont to the '\n",
      " 'confines of Syria, and barred the pilgrimage of Jerusalem, his name was '\n",
      " 'Kilidge-Arslan, or Soliman,           Soliman was rather provoked than '\n",
      " 'dismayed by the loss of his capital: he admonished his subjects and allies '\n",
      " 'of this strange invasion of the Western Barbarians; the Turkish emirs obeyed '\n",
      " 'the call of loyalty or religion; the Turkman hordes encamped round his '\n",
      " 'standard; and his whole force is loosely stated by the Christians at two '\n",
      " 'hundred, or even three hundred and sixty thousand horse. Yet he patiently '\n",
      " 'waited till they had left behind them the sea and the Greek frontier; and '\n",
      " 'hovering on the flanks, observed their careless and confident progress in '\n",
      " 'two columns beyond the view of each other. Some miles before they could '\n",
      " 'reach Dorylaeum in Phrygia, the left, and least numerous, division was '\n",
      " 'surprised, and attacked, and almost oppressed, by the Turkish '\n",
      " 'cavalry.         To improve the general consternation, the cousin of '\n",
      " 'Bohemond and the brother of Godfrey were detached from the main army with '\n",
      " 'their respective squadrons of five, and of seven, hundred knights. They '\n",
      " 'overran in a rapid career the hills and sea-coast of Cilicia, from Cogni to '\n",
      " 'the Syrian gates: the Norman standard was first planted on the walls of '\n",
      " 'Tarsus and Malmistra; but the proud injustice of Baldwin at length provoked '\n",
      " 'the patient and generous Italian; and they turned their consecrated swords '\n",
      " 'against each other in a private and profane quarrel. Honor was the motive, '\n",
      " 'and fame the reward, of Tancred; but fortune smiled on the more selfish '\n",
      " 'enterprise of his rival.     Before the Franks could enter Syria, the '\n",
      " 'summer, and even the autumn, were completely wasted: the siege of Antioch, '\n",
      " 'or the separation and repose of the army during the winter season, was '\n",
      " 'strongly debated in their council: the love of arms and the holy sepulchre '\n",
      " 'urged them to advance; and reason perhaps was on the side of resolution, '\n",
      " 'since every hour of delay abates the fame and force of the invader, and '\n",
      " 'multiplies the resources of defensive war. The capital of Syria was '\n",
      " 'protected by the River Orontes; and the iron bridge,               In the '\n",
      " 'eventful period of the siege and defence of Antioch, the crusaders were '\n",
      " 'alternately exalted by victory or sunk in despair; either swelled with '\n",
      " 'plenty or emaciated with hunger. A speculative reasoner might suppose, that '\n",
      " 'their faith had a strong and serious influence on their practice; and that '\n",
      " 'the soldiers of the cross, the deliverers of the holy sepulchre, prepared '\n",
      " 'themselves by a sober and virtuous life for the daily contemplation of '\n",
      " 'martyrdom. Experience blows away this charitable illusion; and seldom does '\n",
      " 'the history of profane war display such scenes of intemperance and '\n",
      " 'prostitution as were exhibited under the walls of Antioch. The grove of '\n",
      " 'Daphne no longer flourished; but the Syrian air was still impregnated with '\n",
      " 'the same vices; the Christians were seduced by every temptation           '\n",
      " 'For their salvation and victory, they were indebted to the same fanaticism '\n",
      " 'which had led them to the brink of ruin. In such a cause, and in such an '\n",
      " 'army, visions, prophecies, and miracles, were frequent and familiar. In the '\n",
      " 'distress of Antioch, they were repeated with unusual energy and success: St. '\n",
      " 'Ambrose had assured a pious ecclesiastic, that two years of trial must '\n",
      " 'precede the season of deliverance and grace; the deserters were stopped by '\n",
      " 'the presence and reproaches of Christ himself; the dead had promised to '\n",
      " 'arise and combat with their brethren; the Virgin had obtained the pardon of '\n",
      " 'their sins; and their confidence was revived by a visible sign, the '\n",
      " 'seasonable and splendid discovery of the Holy Lance. The policy of their '\n",
      " 'chiefs has on this occasion been admired, and might surely be excused; but a '\n",
      " 'pious fraud is seldom produced by the cool conspiracy of many persons; and a '\n",
      " 'voluntary impostor might depend on the support of the wise and the credulity '\n",
      " 'of the people. Of the diocese of Marseilles, there was a priest of low '\n",
      " 'cunning and loose manners, and his name was Peter Bartholemy. He presented '\n",
      " 'himself at the door of the council-chamber, to disclose an apparition of St. '\n",
      " 'Andrew, which had been thrice reiterated in his sleep with a dreadful '\n",
      " 'menace, if he presumed to suppress the commands of Heaven. “At Antioch,” '\n",
      " 'said the apostle, “in the church of my brother St. Peter, near the high '\n",
      " 'altar, is concealed the steel head of the lance that pierced the side of our '\n",
      " 'Redeemer. In three days that instrument of eternal, and now of temporal, '\n",
      " 'salvation, will be manifested to his disciples. Search, and ye shall find: '\n",
      " 'bear it aloft in battle; and that mystic weapon shall penetrate the souls of '\n",
      " 'the miscreants.” The pope’s legate, the bishop of Puy, affected to listen '\n",
      " 'with coldness and distrust; but the revelation was eagerly accepted by Count '\n",
      " 'Raymond, whom his faithful subject, in the name of the apostle, had chosen '\n",
      " 'for the guardian of the holy lance. The experiment was resolved; and on the '\n",
      " 'third day after a due preparation of prayer and fasting, the priest of '\n",
      " 'Marseilles introduced twelve trusty spectators, among whom were the count '\n",
      " 'and his chaplain; and the church doors were barred against the impetuous '\n",
      " 'multitude. The ground was opened in the appointed place; but the workmen, '\n",
      " 'who relieved each other, dug to the depth of twelve feet without discovering '\n",
      " 'the object of their search. In the evening, when Count Raymond had withdrawn '\n",
      " 'to his post, and the weary assistants began to murmur, Bartholemy, in his '\n",
      " 'shirt, and without his shoes, boldly descended into the pit; the darkness of '\n",
      " 'the hour and of the place enabled him to secrete and deposit the head of a '\n",
      " 'Saracen lance; and the first sound, the first gleam, of the steel was '\n",
      " 'saluted with a devout rapture. The holy lance was drawn from its recess, '\n",
      " 'wrapped in a veil of silk and gold, and exposed to the veneration of the '\n",
      " 'crusaders; their anxious suspense burst forth in a general shout of joy and '\n",
      " 'hope, and the desponding troops were again inflamed with the enthusiasm of '\n",
      " 'valor. Whatever had been the arts, and whatever might be the sentiments of '\n",
      " 'the chiefs, they skilfully improved this fortunate revolution by every aid '\n",
      " 'that discipline and devotion could afford. The soldiers were dismissed to '\n",
      " 'their quarters with an injunction to fortify their minds and bodies for the '\n",
      " 'approaching conflict, freely to bestow their last pittance on themselves and '\n",
      " 'their horses, and to expect with the dawn of day the signal of victory. On '\n",
      " 'the festival of St. Peter and St. Paul, the gates of Antioch were thrown '\n",
      " 'open: a martial psalm, “Let the Lord arise, and let his enemies be '\n",
      " 'scattered!” was chanted by a procession of priests and monks; the battle '\n",
      " 'array was marshalled in twelve divisions, in honor of the twelve apostles; '\n",
      " 'and the holy lance, in the absence of Raymond, was intrusted to the hands of '\n",
      " 'his chaplain. The influence of his relic or trophy, was felt by the '\n",
      " 'servants, and perhaps by the enemies, of Christ;         The prudence or '\n",
      " 'fortune of the Franks had delayed their invasion till the decline of the '\n",
      " 'Turkish empire.       Yet this attack, when they were within the view and '\n",
      " 'reach of their glorious prize, was suspended above ten months after the '\n",
      " 'defeat of Kerboga. The zeal and courage of the crusaders were chilled in the '\n",
      " 'moment of victory; and instead of marching to improve the consternation, '\n",
      " 'they hastily dispersed to enjoy the luxury, of Syria. The causes of this '\n",
      " 'strange delay may be found in the want of strength and subordination. In the '\n",
      " 'painful and various service of Antioch, the cavalry was annihilated; many '\n",
      " 'thousands of every rank had been lost by famine, sickness, and desertion: '\n",
      " 'the same abuse of plenty had been productive of a third famine; and the '\n",
      " 'alternative of intemperance and distress had generated a pestilence, which '\n",
      " 'swept away above fifty thousand of the pilgrims. Few were able to command, '\n",
      " 'and none were willing to obey; the domestic feuds, which had been stifled by '\n",
      " 'common fear, were again renewed in acts, or at least in sentiments, of '\n",
      " 'hostility; the fortune of Baldwin and Bohemond excited the envy of their '\n",
      " 'companions; the bravest knights were enlisted for the defence of their new '\n",
      " 'principalities; and Count Raymond exhausted his troops and treasures in an '\n",
      " 'idle expedition into the heart of Syria.     ')\n",
      "----------------------------------------\n",
      "Result 8\n",
      "The First Crusade.—Part V.\n",
      "('Jerusalem has derived some reputation from the number and importance of her '\n",
      " 'memorable sieges. It was not till after a long and obstinate contest that '\n",
      " 'Babylon and Rome could prevail against the obstinacy of the people, the '\n",
      " 'craggy ground that might supersede the necessity of fortifications, and the '\n",
      " 'walls and towers that would have fortified the most accessible '\n",
      " 'plain.                     Eight days after this memorable event, which Pope '\n",
      " 'Urban did not live to hear, the Latin chiefs proceeded to the election of a '\n",
      " 'king, to guard and govern their conquests in Palestine. Hugh the Great, and '\n",
      " 'Stephen of Chartres, had retired with some loss of reputation, which they '\n",
      " 'strove to regain by a second crusade and an honorable death. Baldwin was '\n",
      " 'established at Edessa, and Bohemond at Antioch; and two Roberts, the duke of '\n",
      " 'Normandy             Without this indulgence, the conqueror would have '\n",
      " 'almost been stripped of his infant kingdom, which consisted only of '\n",
      " 'Jerusalem and Jaffa, with about twenty villages and towns of the adjacent '\n",
      " 'country.                             The spirit of freedom, which pervades '\n",
      " 'the feudal institutions, was felt in its strongest energy by the volunteers '\n",
      " 'of the cross, who elected for their chief the most deserving of his peers. '\n",
      " 'Amidst the slaves of Asia, unconscious of the lesson or example, a model of '\n",
      " 'political liberty was introduced; and the laws of the French kingdom are '\n",
      " 'derived from the purest source of equality and justice. Of such laws, the '\n",
      " 'first and indispensable condition is the assent of those whose obedience '\n",
      " 'they require, and for whose benefit they are designed. No sooner had Godfrey '\n",
      " 'of Bouillon accepted the office of supreme magistrate, than he solicited the '\n",
      " 'public and private advice of the Latin pilgrims, who were the best skilled '\n",
      " 'in the statutes and customs of Europe. From these materials, with the '\n",
      " 'counsel and approbation of the patriarch and barons, of the clergy and '\n",
      " 'laity, Godfrey composed the Assise of Jerusalem,           The justice and '\n",
      " 'freedom of the constitution were maintained by two tribunals of unequal '\n",
      " 'dignity, which were instituted by Godfrey of Bouillon after the conquest of '\n",
      " 'Jerusalem. The king, in person, presided in the upper court, the court of '\n",
      " 'the barons. Of these the four most conspicuous were the prince of Galilee, '\n",
      " 'the lord of Sidon and Caesarea, and the counts of Jaffa and Tripoli, who, '\n",
      " 'perhaps with the constable and marshal,     The trial by battle was '\n",
      " 'established in all criminal cases which affected the life, or limb, or '\n",
      " 'honor, of any person; and in all civil transactions, of or above the value '\n",
      " 'of one mark of silver. It appears that in criminal cases the combat was the '\n",
      " 'privilege of the accuser, who, except in a charge of treason, avenged his '\n",
      " 'personal injury, or the death of those persons whom he had a right to '\n",
      " 'represent; but wherever, from the nature of the charge, testimony could be '\n",
      " 'obtained, it was necessary for him to produce witnesses of the fact. In '\n",
      " 'civil cases, the combat was not allowed as the means of establishing the '\n",
      " 'claim of the demandant; but he was obliged to produce witnesses who had, or '\n",
      " 'assumed to have, knowledge of the fact. The combat was then the privilege of '\n",
      " 'the defendant; because he charged the witness with an attempt by perjury to '\n",
      " 'take away his right. He came therefore to be in the same situation as the '\n",
      " 'appellant in criminal cases. It was not then as a mode of proof that the '\n",
      " 'combat was received, nor as making negative evidence, (according to the '\n",
      " 'supposition of Montesquieu;     Among the causes which enfranchised the '\n",
      " 'plebeians from the yoke of feudal tyranny, the institution of cities and '\n",
      " 'corporations is one of the most powerful; and if those of Palestine are '\n",
      " 'coeval with the first crusade, they may be ranked with the most ancient of '\n",
      " 'the Latin world. Many of the pilgrims had escaped from their lords under the '\n",
      " 'banner of the cross; and it was the policy of the French princes to tempt '\n",
      " 'their stay by the assurance of the rights and privileges of freemen. It is '\n",
      " 'expressly declared in the Assise of Jerusalem, that after instituting, for '\n",
      " 'his knights and barons, the court of peers, in which he presided himself, '\n",
      " 'Godfrey of Bouillon established a second tribunal, in which his person was '\n",
      " 'represented by his viscount. The jurisdiction of this inferior court '\n",
      " 'extended over the burgesses of the kingdom; and it was composed of a select '\n",
      " 'number of the most discreet and worthy citizens, who were sworn to judge, '\n",
      " 'according to the laws of the actions and fortunes of their equals.          '\n",
      " 'VOLUME SIX')\n",
      "----------------------------------------\n",
      "Result 9\n",
      "Partition Of The Empire By The French And Venetians.—Part I.\n",
      "('Partition Of The Empire By The French And Venetians,—Five Latin      '\n",
      " 'Emperors Of The Houses Of Flanders And Courtenay.— Their Wars      Against '\n",
      " 'The Bulgarians And Greeks.—Weakness And Poverty Of The      Latin '\n",
      " 'Empire.—Recovery Of Constantinople By The Greeks.—General      Consequences '\n",
      " 'Of The Crusades.  After the death of the lawful princes, the French and '\n",
      " 'Venetians, confident of justice and victory, agreed to divide and regulate '\n",
      " 'their future possessions.             In the division of the Greek '\n",
      " 'provinces,                     Two fugitives, who had reigned at '\n",
      " 'Constantinople, still asserted the title of emperor; and the subjects of '\n",
      " 'their fallen throne might be moved to pity by the misfortunes of the elder '\n",
      " 'Alexius, or excited to revenge by the spirit of Mourzoufle. A domestic '\n",
      " 'alliance, a common interest, a similar guilt, and the merit of extinguishing '\n",
      " 'his enemies, a brother and a nephew, induced the more recent usurper to '\n",
      " 'unite with the former the relics of his power. Mourzoufle was received with '\n",
      " 'smiles and honors in the camp of his father Alexius; but the wicked can '\n",
      " 'never love, and should rarely trust, their fellow-criminals; he was seized '\n",
      " 'in the bath, deprived of his eyes, stripped of his troops and treasures, and '\n",
      " 'turned out to wander an object of horror and contempt to those who with more '\n",
      " 'propriety could hate, and with more justice could punish, the assassin of '\n",
      " 'the emperor Isaac and his son. As the tyrant, pursued by fear or remorse, '\n",
      " 'was stealing over to Asia, he was seized by the Latins of Constantinople, '\n",
      " 'and condemned, after an open trial, to an ignominious death. His judges '\n",
      " 'debated the mode of his execution, the axe, the wheel, or the stake; and it '\n",
      " 'was resolved that Mourzoufle                     The Latin conquerors had '\n",
      " 'been saluted with a solemn and early embassy from John, or Joannice, or '\n",
      " 'Calo-John, the revolted chief of the Bulgarians and Walachians. He deemed '\n",
      " 'himself their brother, as the votary of the Roman pontiff, from whom he had '\n",
      " 'received the regal title and a holy banner; and in the subversion of the '\n",
      " 'Greek monarchy, he might aspire to the name of their friend and accomplice. '\n",
      " 'But Calo-John was astonished to find, that the Count of Flanders had assumed '\n",
      " 'the pomp and pride of the successors of Constantine; and his ambassadors '\n",
      " 'were dismissed with a haughty message, that the rebel must deserve a pardon, '\n",
      " 'by touching with his forehead the footstool of the Imperial throne. His '\n",
      " 'resentment     Alarmed by this sudden and growing danger, the emperor '\n",
      " 'despatched a swift messenger to recall Count Henry and his troops; and had '\n",
      " 'Baldwin expected the return of his gallant brother, with a supply of twenty '\n",
      " 'thousand Armenians, he might have encountered the invader with equal numbers '\n",
      " 'and a decisive superiority of arms and discipline. But the spirit of '\n",
      " 'chivalry could seldom discriminate caution from cowardice; and the emperor '\n",
      " 'took the field with a hundred and forty knights, and their train of archers '\n",
      " 'and sergeants. The marshal, who dissuaded and obeyed, led the vanguard in '\n",
      " 'their march to Adrianople; the main body was commanded by the count of '\n",
      " 'Blois; the aged doge of Venice followed with the rear; and their scanty '\n",
      " 'numbers were increased from all sides by the fugitive Latins. They undertook '\n",
      " 'to besiege the rebels of Adrianople; and such was the pious tendency of the '\n",
      " 'crusades that they employed the holy week in pillaging the country for their '\n",
      " 'subsistence, and in framing engines for the destruction of their '\n",
      " 'fellow-Christians. But the Latins were soon interrupted and alarmed by the '\n",
      " 'light cavalry of the Comans, who boldly skirmished to the edge of their '\n",
      " 'imperfect lines: and a proclamation was issued by the marshal of Romania, '\n",
      " 'that, on the trumpet’s sound, the cavalry should mount and form; but that '\n",
      " 'none, under pain of death, should abandon themselves to a desultory and '\n",
      " 'dangerous pursuit. This wise injunction was first disobeyed by the count of '\n",
      " 'Blois, who involved the emperor in his rashness and ruin. The Comans, of the '\n",
      " 'Parthian or Tartar school, fled before their first charge; but after a '\n",
      " 'career of two leagues, when the knights and their horses were almost '\n",
      " 'breathless, they suddenly turned, rallied, and encompassed the heavy '\n",
      " 'squadrons of the Franks. The count was slain on the field; the emperor was '\n",
      " 'made prisoner; and if the one disdained to fly, if the other refused to '\n",
      " 'yield, their personal bravery made a poor atonement for their ignorance, or '\n",
      " 'neglect, of the duties of a general. ')\n",
      "----------------------------------------\n",
      "Result 10\n",
      "The First Crusade.—Part III.\n",
      "('Between the age of Charlemagne and that of the crusades, a revolution had '\n",
      " 'taken place among the Spaniards, the Normans, and the French, which was '\n",
      " 'gradually extended to the rest of Europe. The service of the infantry was '\n",
      " 'degraded to the plebeians; the cavalry formed the strength of the armies, '\n",
      " 'and the honorable name of miles, or soldier, was confined to the '\n",
      " 'gentlemen         Such were the troops, and such the leaders, who assumed '\n",
      " 'the cross for the deliverance of the holy sepulchre. As soon as they were '\n",
      " 'relieved by the absence of the plebeian multitude, they encouraged each '\n",
      " 'other, by interviews and messages, to accomplish their vow, and hasten their '\n",
      " 'departure. Their wives and sisters were desirous of partaking the danger and '\n",
      " 'merit of the pilgrimage: their portable treasures were conveyed in bars of '\n",
      " 'silver and gold; and the princes and barons were attended by their equipage '\n",
      " 'of hounds and hawks to amuse their leisure and to supply their table. The '\n",
      " 'difficulty of procuring subsistence for so many myriads of men and horses '\n",
      " 'engaged them to separate their forces: their choice or situation determined '\n",
      " 'the road; and it was agreed to meet in the neighborhood of Constantinople, '\n",
      " 'and from thence to begin their operations against the Turks. From the banks '\n",
      " 'of the Meuse and the Moselle, Godfrey of Bouillon followed the direct way of '\n",
      " 'Germany, Hungary, and Bulgaria; and, as long as he exercised the sole '\n",
      " 'command every step afforded some proof of his prudence and virtue. On the '\n",
      " 'confines of Hungary he was stopped three weeks by a Christian people, to '\n",
      " 'whom the name, or at least the abuse, of the cross was justly odious. The '\n",
      " 'Hungarians still smarted with the wounds which they had received from the '\n",
      " 'first pilgrims: in their turn they had abused the right of defence and '\n",
      " 'retaliation; and they had reason to apprehend a severe revenge from a hero '\n",
      " 'of the same nation, and who was engaged in the same cause. But, after '\n",
      " 'weighing the motives and the events, the virtuous duke was content to pity '\n",
      " 'the crimes and misfortunes of his worthless brethren; and his twelve '\n",
      " 'deputies, the messengers of peace, requested in his name a free passage and '\n",
      " 'an equal market. To remove their suspicions, Godfrey trusted himself, and '\n",
      " 'afterwards his brother, to the faith of Carloman,               In some '\n",
      " 'oriental tale I have read the fable of a shepherd, who was ruined by the '\n",
      " 'accomplishment of his own wishes: he had prayed for water; the Ganges was '\n",
      " 'turned into his grounds, and his flock and cottage were swept away by the '\n",
      " 'inundation. Such was the fortune, or at least the apprehension of the Greek '\n",
      " 'emperor Alexius Comnenus, whose name has already appeared in this history, '\n",
      " 'and whose conduct is so differently represented by his daughter '\n",
      " 'Anne,         The same arms which threatened Europe might deliver Asia, and '\n",
      " 'repel the Turks from the neighboring shores of the Bosphorus and Hellespont. '\n",
      " 'The fair provinces from Nice to Antioch were the recent patrimony of the '\n",
      " 'Roman emperor; and his ancient and perpetual claim still embraced the '\n",
      " 'kingdoms of Syria and Egypt. In his enthusiasm, Alexius indulged, or '\n",
      " 'affected, the ambitious hope of leading his new allies to subvert the '\n",
      " 'thrones of the East; but the calmer dictates of reason and temper dissuaded '\n",
      " 'him from exposing his royal person to the faith of unknown and lawless '\n",
      " 'Barbarians. His prudence, or his pride, was content with extorting from the '\n",
      " 'French princes an oath of homage and fidelity, and a solemn promise, that '\n",
      " 'they  would either restore, or hold, their Asiatic conquests as the humble '\n",
      " 'and loyal vassals of the Roman empire. Their independent spirit was fired at '\n",
      " 'the mention of this foreign and voluntary servitude: they successively '\n",
      " 'yielded to the dexterous application of gifts and flattery; and the first '\n",
      " 'proselytes became the most eloquent and effectual missionaries to multiply '\n",
      " 'the companions of their shame. The pride of Hugh of Vermandois was soothed '\n",
      " 'by the honors of his captivity; and in the brother of the French king, the '\n",
      " 'example of submission was prevalent and weighty. In the mind of Godfrey of '\n",
      " 'Bouillon every human consideration was subordinate to the glory of God and '\n",
      " 'the success of the crusade. He had firmly resisted the temptations of '\n",
      " 'Bohemond and Raymond, who urged the attack and conquest of Constantinople. '\n",
      " 'Alexius esteemed his virtues, deservedly named him the champion of the '\n",
      " 'empire, and dignified his homage with the filial name and the rights of '\n",
      " 'adoption.         Private or public interest suppressed the murmurs of the '\n",
      " 'dukes and counts; but a French baron (he is supposed to be Robert of '\n",
      " 'Paris     The conquest of Asia was undertaken and achieved by Alexander, '\n",
      " 'with thirty-five thousand Macedonians and Greeks;             ')\n",
      "----------------------------------------\n"
     ]
    }
   ],
   "source": [
    "from whoosh.qparser import QueryParser\n",
    "from pprint import pprint\n",
    "\n",
    "qp = QueryParser(\n",
    "    \"text\", # field we want to search in\n",
    "    schema=ix.schema\n",
    ")\n",
    "q = qp.parse(u\"The Crusades\")\n",
    "\n",
    "# can print out the results below\n",
    "with ix.searcher() as s:\n",
    "    results = s.search(q) # list of dictionaries\n",
    "    for i, hit in enumerate(results): # loop through them\n",
    "        print(f\"Result {i+1}\")\n",
    "        print(hit['title']) # chapter name from our schema\n",
    "        pprint(hit['text']) # text\n",
    "        print('--'*20)"
   ]
  },
  {
   "cell_type": "markdown",
   "metadata": {
    "id": "grRZvb-zpQW0"
   },
   "source": [
    "Yay! Our search engine worked! But there's more than we can do. To start, we're only seeing the first 10 results. This is by default, as this `results` list is *paginated* meaning that in the searcher method we could specify what \"page\" of ten results we want to see at a particular time. This will be useful a bit later, but for now we can set the keyword argument `limit` to `None`."
   ]
  },
  {
   "cell_type": "code",
   "execution_count": 7,
   "metadata": {
    "colab": {
     "base_uri": "https://localhost:8080/"
    },
    "id": "Yhy32krOoOau",
    "outputId": "498da373-4615-47d2-a556-4a7d05dc56ff"
   },
   "outputs": [
    {
     "name": "stdout",
     "output_type": "stream",
     "text": [
      "25\n"
     ]
    }
   ],
   "source": [
    "q = qp.parse(u\"The Crusades\")\n",
    "with ix.searcher() as s:\n",
    "    results = s.search(q, limit=None)\n",
    "    print(len(results))"
   ]
  },
  {
   "cell_type": "code",
   "execution_count": 8,
   "metadata": {
    "colab": {
     "base_uri": "https://localhost:8080/"
    },
    "id": "qUlnZiLjH6tF",
    "outputId": "e99cd06b-1b4e-4836-cd02-cafdcfb45cd3"
   },
   "outputs": [
    {
     "name": "stdout",
     "output_type": "stream",
     "text": [
      "(text:crusad AND text:bohemond) 3\n",
      "(text:crusad OR text:bohemond) 25\n",
      "(text:crusad AND NOT text:bohemond) 22\n"
     ]
    }
   ],
   "source": [
    "# logical operators\n",
    "q = qp.parse(u\"The Crusades AND Bohemond\")\n",
    "with ix.searcher() as s:\n",
    "    results = s.search(q, limit=None)\n",
    "    print(q, len(results))\n",
    "\n",
    "q = qp.parse(u\"The Crusades OR Bohemond\")\n",
    "with ix.searcher() as s:\n",
    "    results = s.search(q, limit=None)\n",
    "    print(q, len(results))\n",
    "\n",
    "q = qp.parse(u\"The Crusades NOT Bohemond\")\n",
    "with ix.searcher() as s:\n",
    "    results = s.search(q, limit=None)\n",
    "    print(q, len(results))"
   ]
  },
  {
   "cell_type": "code",
   "execution_count": 9,
   "metadata": {
    "colab": {
     "base_uri": "https://localhost:8080/"
    },
    "id": "Vjbx_3qRH6qw",
    "outputId": "b5753609-5a94-42c5-bbfd-1d8ab18f9fa6"
   },
   "outputs": [
    {
     "name": "stdout",
     "output_type": "stream",
     "text": [
      "The Crusades.—Part I.\n",
      "('Preservation Of The Greek Empire.—Numbers, Passage, And Event, Of      The '\n",
      " 'Second And Third Crusades.—St. Bernard.— Reign Of Saladin In      Egypt And '\n",
      " 'Syria.—His Conquest Of Jerusalem.—Naval      Crusades.—Richard The First Of '\n",
      " 'England.— Pope Innocent The Third;      And The Fourth And Fifth Crusades.— '\n",
      " 'The Emperor Frederic The      Second.—Louis The Ninth Of France; And The Two '\n",
      " 'Last      Crusades.—Expulsion Of The Latins Or Franks By The Mamelukes.   In '\n",
      " 'a style less grave than that of history, I should perhaps compare the '\n",
      " 'emperor Alexius               In the twelfth century, three great '\n",
      " 'emigrations marched by land from the West for the relief of Palestine. The '\n",
      " 'soldiers and pilgrims of Lombardy, France, and Germany were excited by the '\n",
      " 'example and success of the first crusade.       I. Of the swarms that so '\n",
      " 'closely trod in the footsteps of the first pilgrims, the chiefs were equal '\n",
      " 'in rank, though unequal in fame and merit, to Godfrey of Bouillon and his '\n",
      " 'fellow-adventurers. At their head were displayed the banners of the dukes of '\n",
      " 'Burgundy, Bavaria, and Aquitain; the first a descendant of Hugh Capet, the '\n",
      " 'second, a father of the Brunswick line: the archbishop of Milan, a temporal '\n",
      " 'prince, transported, for the benefit of the Turks, the treasures and '\n",
      " 'ornaments of his church and palace; and the veteran crusaders, Hugh the '\n",
      " 'Great and Stephen of Chartres, returned to consummate their unfinished vow. '\n",
      " 'The huge and disorderly bodies of their followers moved forward in two '\n",
      " 'columns; and if the first consisted of two hundred and sixty thousand '\n",
      " 'persons, the second might possibly amount to sixty thousand horse and one '\n",
      " 'hundred thousand foot.             II. The number and character of the '\n",
      " 'strangers was an object of terror to the effeminate Greeks, and the '\n",
      " 'sentiment of fear is nearly allied to that of hatred. This aversion was '\n",
      " 'suspended or softened by the apprehension of the Turkish power; and the '\n",
      " 'invectives of the Latins will not bias our more candid belief, that the '\n",
      " 'emperor Alexius dissembled their insolence, eluded their hostilities, '\n",
      " 'counselled their rashness, and opened to their ardor the road of pilgrimage '\n",
      " 'and conquest. But when the Turks had been driven from Nice and the '\n",
      " 'sea-coast, when the Byzantine princes no longer dreaded the distant sultans '\n",
      " 'of Cogni, they felt with purer indignation the free and frequent passage of '\n",
      " 'the western Barbarians, who violated the majesty, and endangered the safety, '\n",
      " 'of the empire. The second and third crusades were undertaken under the reign '\n",
      " 'of Manuel Comnenus and Isaac Angelus. Of the former, the passions were '\n",
      " 'always impetuous, and often malevolent; and the natural union of a cowardly '\n",
      " 'and a mischievous temper was exemplified in the latter, who, without merit '\n",
      " 'or mercy, could punish a tyrant, and occupy his throne. It was secretly, and '\n",
      " 'perhaps tacitly, resolved by the prince and people to destroy, or at least '\n",
      " 'to discourage, the pilgrims, by every species of injury and oppression; and '\n",
      " 'their want of prudence and discipline continually afforded the pretence or '\n",
      " 'the opportunity. The Western monarchs had stipulated a safe passage and fair '\n",
      " 'market in the country of their Christian brethren; the treaty had been '\n",
      " 'ratified by oaths and hostages; and the poorest soldier of Frederic’s army '\n",
      " 'was furnished with three marks of silver to defray his expenses on the road. '\n",
      " 'But every engagement was violated by treachery and injustice; and the '\n",
      " 'complaints of the Latins are attested by the honest confession of a Greek '\n",
      " 'historian, who has dared to prefer truth to his country.           III. The '\n",
      " 'swarms that followed the first crusade were destroyed in Anatolia by famine, '\n",
      " 'pestilence, and the Turkish arrows; and the princes only escaped with some '\n",
      " 'squadrons of horse to accomplish their lamentable pilgrimage. A just opinion '\n",
      " 'may be formed of their knowledge and humanity; of their knowledge, from the '\n",
      " 'design of subduing Persia and Chorasan in their way to '\n",
      " 'Jerusalem;                     The enthusiasm of the first crusade is a '\n",
      " 'natural and simple event, while hope was fresh, danger untried, and '\n",
      " 'enterprise congenial to the spirit of the times. But the obstinate '\n",
      " 'perseverance of Europe may indeed excite our pity and admiration; that no '\n",
      " 'instruction should have been drawn from constant and adverse experience; '\n",
      " 'that the same confidence should have repeatedly grown from the same '\n",
      " 'failures; that six succeeding generations should have rushed headlong down '\n",
      " 'the precipice that was open before them; and that men of every condition '\n",
      " 'should have staked their public and private fortunes on the desperate '\n",
      " 'adventure of possessing or recovering a tombstone two thousand miles from '\n",
      " 'their country. In a period of two centuries after the council of Clermont, '\n",
      " 'each spring and summer produced a new emigration of pilgrim warriors for the '\n",
      " 'defence of the Holy Land; but the seven great armaments or crusades were '\n",
      " 'excited by some impending or recent calamity: the nations were moved by the '\n",
      " 'authority of their pontiffs, and the example of their kings: their zeal was '\n",
      " 'kindled, and their reason was silenced, by the voice of their holy orators; '\n",
      " 'and among these, Bernard,                     Omnipotence itself cannot '\n",
      " 'escape the murmurs of its discordant votaries; since the same dispensation '\n",
      " 'which was applauded as a deliverance in Europe, was deplored, and perhaps '\n",
      " 'arraigned, as a calamity in Asia. After the loss of Jerusalem, the Syrian '\n",
      " 'fugitives diffused their consternation and sorrow; Bagdad mourned in the '\n",
      " 'dust; the cadhi Zeineddin of Damascus tore his beard in the caliph’s '\n",
      " 'presence; and the whole divan shed tears at his melancholy tale.           ')\n",
      "----------------------------------------\n"
     ]
    }
   ],
   "source": [
    "# can also filter by chapter\n",
    "from whoosh import query\n",
    "\n",
    "q = qp.parse(u\"The Crusades\")\n",
    "with ix.searcher() as s:\n",
    "    allow_q = query.Term(\"title\", \"The Crusades.—Part I.\") # query.Term takes a schema field (title) and something from that field\n",
    "    results = s.search(q, filter=allow_q, limit=None)\n",
    "    for hit in results: # only return results from that chapter\n",
    "        print(hit['title'])\n",
    "        pprint(hit['text'])\n",
    "        print('--'*20)"
   ]
  },
  {
   "cell_type": "code",
   "execution_count": 10,
   "metadata": {
    "colab": {
     "base_uri": "https://localhost:8080/",
     "height": 1000
    },
    "id": "Ikp3Ds0LH6kT",
    "outputId": "33882437-9718-445d-c250-1eab259a5308"
   },
   "outputs": [
    {
     "name": "stdout",
     "output_type": "stream",
     "text": [
      "Result 1\n",
      "The Crusades.—Part I.\n"
     ]
    },
    {
     "data": {
      "text/html": [
       "Preservation Of The Greek Empire.—Numbers, Passage, And Event, Of      The Second And Third <b class=\"match term0\">Crusades</b>.—St. Bernard.— Reign Of Saladin In      Egypt And Syria.—His Conquest Of Jerusalem.—Naval      <b class=\"match term0\">Crusades</b>.—Richard The First Of England.— Pope Innocent The Third;      And The Fourth And Fifth <b class=\"match term0\">Crusades</b>.— The Emperor Frederic The      Second.—Louis The Ninth Of France; And The Two Last      <b class=\"match term0\">Crusades</b>.—Expulsion Of The Latins Or Franks By The Mamelukes.   In a style less grave than that of history, I should perhaps compare the emperor Alexius               In the twelfth century, three great emigrations marched by land from the West for the relief of Palestine. The soldiers and pilgrims of Lombardy, France, and...of Hugh Capet, the second, a father of the Brunswick line: the archbishop of Milan, a temporal prince, transported, for the benefit of the Turks, the treasures and ornaments of his church and palace; and the veteran <b class=\"match term1\">crusaders</b>, Hugh the Great and Stephen of Chartres, returned to consummate their unfinished vow. The huge and disorderly bodies of their followers moved forward in two columns; and if the first consisted of two hundred and sixty thousand persons, the second might possibly amount to sixty thousand horse...a tombstone two thousand miles from their country. In a period of two centuries after the council of Clermont, each spring and summer produced a new emigration of pilgrim warriors for the defence of the Holy Land; but the seven great armaments or <b class=\"match term2\">crusades</b> were excited by some impending or recent calamity: the nations were moved by the authority of their pontiffs, and the example of their kings: their zeal was kindled, and their reason was silenced, by the voice of their holy orators; and among these, Bernard,                     Omnipotence itself cannot escape the murmurs"
      ],
      "text/plain": [
       "<IPython.core.display.HTML object>"
      ]
     },
     "metadata": {},
     "output_type": "display_data"
    },
    {
     "name": "stdout",
     "output_type": "stream",
     "text": [
      "----------------------------------------\n",
      "Result 2\n",
      "The Crusades.—Part III.\n"
     ]
    },
    {
     "data": {
      "text/html": [
       "under the immediate protection of the popes; and these spiritual patrons soon claimed the prerogative of directing their operations, and enforcing, by commands and censures, the accomplishment of their vow. Frederic the Second,           Of the seven <b class=\"match term2\">crusades</b>, the two last were undertaken by Louis the Ninth, king of France; who lost his liberty in Egypt, and his life on the coast of Africa. Twenty-eight years after his death, he was canonized at Rome; and sixty-five miracles were readily found, and solemnly attested, to justify the claim of the royal saint.         In complete...the beach; and the strong city of Damietta, which had cost his predecessors a siege of sixteen months, was abandoned on the first assault by the trembling Moslems. But Damietta was the first and the last of his conquests; and in the fifth and sixth <b class=\"match term2\">crusades</b>, the same causes, almost on the same ground, were productive of similar calamities.         The memory of his defeat excited Louis, after sixteen years of wisdom and repose, to undertake the seventh and last of the <b class=\"match term2\">crusades</b>. His finances were restored, his kingdom was enlarged; a new generation of warriors had arisen, and he advanced with fresh confidence at the head of six thousand horse and thirty thousand foot. The loss of Antioch had provoked the enterprise; a wild hope of baptizing the king of Tunis tempted him to"
      ],
      "text/plain": [
       "<IPython.core.display.HTML object>"
      ]
     },
     "metadata": {},
     "output_type": "display_data"
    },
    {
     "name": "stdout",
     "output_type": "stream",
     "text": [
      "----------------------------------------\n",
      "Result 3\n",
      "The First Crusade.—Part II.\n"
     ]
    },
    {
     "data": {
      "text/html": [
       "and such was the stupidity of the people, that, at the sight of the first city or castle beyond the limits of their knowledge, they were ready to ask whether that was not the Jerusalem, the term and object of their labors. Yet the more prudent of the <b class=\"match term1\">crusaders</b>, who were not sure that they should be fed from heaven with a shower of quails or manna, provided themselves with those precious metals, which, in every country, are the representatives of every commodity. To defray, according to their rank, the expenses of the road, princes alienated their provinces...and suffered, before I enter on the more serious and successful enterprise of the chiefs. Early in the spring, from the confines of France and Lorraine, above sixty thousand of the populace of both sexes flocked round the first missionary of the <b class=\"match term3\">crusade</b>, and pressed him with clamorous importunity to lead them to the holy sepulchre. The hermit, assuming the character, without the talents or authority, of a general, impelled or obeyed the forward impulse of his votaries along the banks of the Rhine and Danube. Their wants and numbers soon compelled...may we credit such folly?) were a goose and a goat, who were carried in the front, and to whom these worthy Christians ascribed an infusion of the divine spirit.       Between the frontiers of Austria and the seat of the Byzantine monarchy, the <b class=\"match term1\">crusaders</b> were compelled to traverse as interval of six hundred miles; the wild and desolate countries of Hungary             “To save time and space, I shall represent, in a short table, the particular references to the great events of the first <b class=\"match term3\">crusade</b>.”      [See Table"
      ],
      "text/plain": [
       "<IPython.core.display.HTML object>"
      ]
     },
     "metadata": {},
     "output_type": "display_data"
    },
    {
     "name": "stdout",
     "output_type": "stream",
     "text": [
      "----------------------------------------\n",
      "Result 4\n",
      "Schism Of The Greeks And Latins.—Part I.\n"
     ]
    },
    {
     "data": {
      "text/html": [
       "Schism Of The Greeks And Latins.—Reign And Character Of Amurath      The Second.—<b class=\"match term4\">Crusade</b> Of Ladislaus, King Of Hungary.— His Defeat And      Death.—John Huniades.—Scanderbeg.— Constantine Palæologus, Last      Emperor Of The East.  The respective merits of Rome and Constantinople are compared and celebrated by an eloquent Greek, the father of the Italian schools.         The last hope of the falling city and...brethren, Eugenius had not been unmindful of their temporal interest; and his tender regard for the Byzantine empire was animated by a just apprehension of the Turks, who approached, and might soon invade, the borders of Italy. But the spirit of the <b class=\"match term2\">crusades</b> had expired; and the coldness of the Franks was not less unreasonable than their headlong passion. In the eleventh century, a fanatic monk could precipitate Europe on Asia for the recovery of the holy sepulchre; but in the fifteenth, the most pressing motives of religion and policy were insufficient...and the pride of conquest was blended with the humble temper of Christianity. Thirteen bashaws, nine standards, and four thousand captives, were unquestionable trophies; and as all were willing to believe, and none were present to contradict, the <b class=\"match term1\">crusaders</b> multiplied, with unblushing confidence, the myriads of Turks whom they had left on the field of battle.     During the whole transaction, the cardinal legate had observed a sullen silence, unwilling to approve, and unable to oppose, the consent of the king and people. But the diet was not dissolved before"
      ],
      "text/plain": [
       "<IPython.core.display.HTML object>"
      ]
     },
     "metadata": {},
     "output_type": "display_data"
    },
    {
     "name": "stdout",
     "output_type": "stream",
     "text": [
      "----------------------------------------\n",
      "Result 5\n",
      "Partition Of The Empire By The French And Venetians.—Part III.\n"
     ]
    },
    {
     "data": {
      "text/html": [
       "this narrative of the expeditions of the Latins to Palestine and Constantinople, I cannot dismiss the subject without resolving the general consequences on the countries that were the scene, and on the nations that were the actors, of these memorable <b class=\"match term2\">crusades</b>.     If we compare the æra of the <b class=\"match term2\">crusades</b>, the Latins of Europe with the Greeks and Arabians, their respective degrees of knowledge, industry, and art, our rude ancestors must be content with the third rank in the scale of nations. Their successive improvement and present superiority may be ascribed to a peculiar energy of character, to"
      ],
      "text/plain": [
       "<IPython.core.display.HTML object>"
      ]
     },
     "metadata": {},
     "output_type": "display_data"
    },
    {
     "name": "stdout",
     "output_type": "stream",
     "text": [
      "----------------------------------------\n",
      "Result 6\n",
      "The First Crusade.—Part I.\n"
     ]
    },
    {
     "data": {
      "text/html": [
       "Origin And Numbers Of The First <b class=\"match term4\">Crusade</b>.—Characters Of The Latin      Princes.—Their March To Constantinople.—Policy Of The Greek      Emperor Alexius.—Conquest Of Nice, Antioch, And Jerusalem, By The      Franks.—Deliverance Of The Holy Sepulchre.— Godfrey Of Bouillon,      First King Of Jerusalem.—Institutions Of The French Or Latin      Kingdom.  About twenty years...quarrel legitimate, and the necessity inevitable. The policy of an action may be determined from the tardy lessons of experience; but, before we act, our conscience should be satisfied of the justice and propriety of our enterprise. In the age of the <b class=\"match term2\">crusades</b>, the Christians, both of the East and West, were persuaded of their lawfulness and merit; their arguments are clouded by the perpetual abuse of Scripture and rhetoric; but they seem to insist on the right of natural and religious defence, their peculiar title to the Holy Land, and the impiety of their"
      ],
      "text/plain": [
       "<IPython.core.display.HTML object>"
      ]
     },
     "metadata": {},
     "output_type": "display_data"
    },
    {
     "name": "stdout",
     "output_type": "stream",
     "text": [
      "----------------------------------------\n",
      "Result 7\n",
      "The First Crusade.—Part IV.\n"
     ]
    },
    {
     "data": {
      "text/html": [
       "I have expiated with pleasure on the first steps of the <b class=\"match term1\">crusaders</b>, as they paint the manners and character of Europe: but I shall abridge the tedious and uniform narrative of their blind achievements, which were performed by strength and are described by ignorance. From their first station in the neighborhood of Nicomedia, they advanced in successive divisions...delay abates the fame and force of the invader, and multiplies the resources of defensive war. The capital of Syria was protected by the River Orontes; and the iron bridge,               In the eventful period of the siege and defence of Antioch, the <b class=\"match term1\">crusaders</b> were alternately exalted by victory or sunk in despair; either swelled with plenty or emaciated with hunger. A speculative reasoner might suppose, that their faith had a strong and serious influence on their practice; and that the soldiers of the cross, the deliverers of the holy sepulchre, prepared...Franks had delayed their invasion till the decline of the Turkish empire.       Yet this attack, when they were within the view and reach of their glorious prize, was suspended above ten months after the defeat of Kerboga. The zeal and courage of the <b class=\"match term1\">crusaders</b> were chilled in the moment of victory; and instead of marching to improve the consternation, they hastily dispersed to enjoy the luxury, of Syria. The causes of this strange delay may be found in the want of strength and subordination. In the painful and various service of Antioch, the cavalry was"
      ],
      "text/plain": [
       "<IPython.core.display.HTML object>"
      ]
     },
     "metadata": {},
     "output_type": "display_data"
    },
    {
     "name": "stdout",
     "output_type": "stream",
     "text": [
      "----------------------------------------\n",
      "Result 8\n",
      "The First Crusade.—Part V.\n"
     ]
    },
    {
     "data": {
      "text/html": [
       "did not live to hear, the Latin chiefs proceeded to the election of a king, to guard and govern their conquests in Palestine. Hugh the Great, and Stephen of Chartres, had retired with some loss of reputation, which they strove to regain by a second <b class=\"match term3\">crusade</b> and an honorable death. Baldwin was established at Edessa, and Bohemond at Antioch; and two Roberts, the duke of Normandy             Without this indulgence, the conqueror would have almost been stripped of his infant kingdom, which consisted only of Jerusalem and Jaffa, with about twenty villages and towns...to the supposition of Montesquieu;     Among the causes which enfranchised the plebeians from the yoke of feudal tyranny, the institution of cities and corporations is one of the most powerful; and if those of Palestine are coeval with the first <b class=\"match term3\">crusade</b>, they may be ranked with the most ancient of the Latin world. Many of the pilgrims had escaped from their lords under the banner of the cross; and it was the policy of the French princes to tempt their stay by the assurance of the rights and privileges of freemen. It is expressly declared in the Assise"
      ],
      "text/plain": [
       "<IPython.core.display.HTML object>"
      ]
     },
     "metadata": {},
     "output_type": "display_data"
    },
    {
     "name": "stdout",
     "output_type": "stream",
     "text": [
      "----------------------------------------\n",
      "Result 9\n",
      "Partition Of The Empire By The French And Venetians.—Part I.\n"
     ]
    },
    {
     "data": {
      "text/html": [
       "Venetians,—Five Latin      Emperors Of The Houses Of Flanders And Courtenay.— Their Wars      Against The Bulgarians And Greeks.—Weakness And Poverty Of The      Latin Empire.—Recovery Of Constantinople By The Greeks.—General      Consequences Of The <b class=\"match term0\">Crusades</b>.  After the death of the lawful princes, the French and Venetians, confident of justice and victory, agreed to divide and regulate their future possessions.             In the division of the Greek provinces,                     Two fugitives, who had reigned at Constantinople, still asserted the title of emperor; and the subjects...commanded by the count of Blois; the aged doge of Venice followed with the rear; and their scanty numbers were increased from all sides by the fugitive Latins. They undertook to besiege the rebels of Adrianople; and such was the pious tendency of the <b class=\"match term2\">crusades</b> that they employed the holy week in pillaging the country for their subsistence, and in framing engines for the destruction of their fellow-Christians. But the Latins were soon interrupted and alarmed by the light cavalry of the Comans, who boldly skirmished to the edge of their imperfect lines"
      ],
      "text/plain": [
       "<IPython.core.display.HTML object>"
      ]
     },
     "metadata": {},
     "output_type": "display_data"
    },
    {
     "name": "stdout",
     "output_type": "stream",
     "text": [
      "----------------------------------------\n",
      "Result 10\n",
      "The First Crusade.—Part III.\n"
     ]
    },
    {
     "data": {
      "text/html": [
       "Between the age of Charlemagne and that of the <b class=\"match term2\">crusades</b>, a revolution had taken place among the Spaniards, the Normans, and the French, which was gradually extended to the rest of Europe. The service of the infantry was degraded to the plebeians; the cavalry formed the strength of the armies, and the honorable name of miles, or soldier, was confined to the...by the honors of his captivity; and in the brother of the French king, the example of submission was prevalent and weighty. In the mind of Godfrey of Bouillon every human consideration was subordinate to the glory of God and the success of the <b class=\"match term3\">crusade</b>. He had firmly resisted the temptations of Bohemond and Raymond, who urged the attack and conquest of Constantinople. Alexius esteemed his virtues, deservedly named him the champion of the empire, and dignified his homage with the filial name and the rights of adoption.         Private or public interest"
      ],
      "text/plain": [
       "<IPython.core.display.HTML object>"
      ]
     },
     "metadata": {},
     "output_type": "display_data"
    },
    {
     "name": "stdout",
     "output_type": "stream",
     "text": [
      "----------------------------------------\n",
      "Result 11\n",
      "The Fourth Crusade.—Part I.\n"
     ]
    },
    {
     "data": {
      "text/html": [
       "Schism Of The Greeks And Latins.—State Of Constantinople.— Revolt      Of The Bulgarians.—Isaac Angelus Dethroned By His Brother      Alexius.—Origin Of The Fourth <b class=\"match term4\">Crusade</b>.—Alliance Of The French And      Venetians With The Son Of Isaac.—Their Naval Expedition To      Constantinople.—The Two Sieges And Final Conquest Of The City By      The Latins.  The restoration of the Western empire by Charlemagne was speedily followed by the separation of the Greek and Latin churches.   In the course...and infidel: instead of being loved for the general conformity of faith and worship, they were abhorred for some rules of discipline, some questions of theology, in which themselves or their teachers might differ from the Oriental church. In the <b class=\"match term3\">crusade</b> of Louis the Seventh, the Greek clergy washed and purified the altars which had been defiled by the sacrifice of a French priest. The companions of Frederic Barbarossa deplore the injuries which they endured, both in word and deed, from the peculiar rancor of the bishops and monks. Their prayers and"
      ],
      "text/plain": [
       "<IPython.core.display.HTML object>"
      ]
     },
     "metadata": {},
     "output_type": "display_data"
    },
    {
     "name": "stdout",
     "output_type": "stream",
     "text": [
      "----------------------------------------\n",
      "Result 12\n",
      "Greek Emperors Of Nice And Constantinople.—Part II.\n"
     ]
    },
    {
     "data": {
      "text/html": [
       "were stained with cruelty and fraud.   I. The Vatican was the most natural refuge of a Latin emperor, who had been driven from his throne; and Pope Urban the Fourth appeared to pity the misfortunes, and vindicate the cause, of the fugitive Baldwin. A <b class=\"match term3\">crusade</b>, with plenary indulgence, was preached by his command against the schismatic Greeks: he excommunicated their allies and adherents; solicited Louis the Ninth in favor of his kinsman; and demanded a tenth of the ecclesiastical revenues of France and England for the service of the holy war.           But they...and active prince, was sufficiently employed in the defence of his throne: his proscription by successive popes had separated Mainfroy from the common cause of the Latins; and the forces that might have besieged Constantinople were detained in a <b class=\"match term3\">crusade</b> against the domestic enemy of Rome. The prize of her avenger, the crown of the Two Sicilies, was won and worn by the brother of St Louis, by Charles count of Anjou and Provence, who led the chivalry of France on this holy expedition.       Among the proscribed adherents of the house of Swabia, John of Procida forfeited"
      ],
      "text/plain": [
       "<IPython.core.display.HTML object>"
      ]
     },
     "metadata": {},
     "output_type": "display_data"
    },
    {
     "name": "stdout",
     "output_type": "stream",
     "text": [
      "----------------------------------------\n",
      "Result 13\n",
      "Moguls, Ottoman Turks.—Part IV.\n"
     ]
    },
    {
     "data": {
      "text/html": [
       "At length, the ambition of the victorious sultan pointed to the conquest of Constantinople; but he listened to the advice of his vizier, who represented that such an enterprise might unite the powers of Christendom in a second and more formidable <b class=\"match term3\">crusade</b>. His epistle to the emperor was conceived in these words: “By the divine clemency, our invincible cimeter has reduced to our obedience almost all Asia, with many and large countries in Europe, excepting only the city of Constantinople; for beyond the walls thou hast nothing left. Resign that city; stipulate"
      ],
      "text/plain": [
       "<IPython.core.display.HTML object>"
      ]
     },
     "metadata": {},
     "output_type": "display_data"
    },
    {
     "name": "stdout",
     "output_type": "stream",
     "text": [
      "----------------------------------------\n",
      "Result 14\n",
      "Union Of The Greek And Latin Churches.—Part II.\n"
     ]
    },
    {
     "data": {
      "text/html": [
       "During the period of the <b class=\"match term2\">crusades</b>, the Greeks beheld with astonishment and terror the perpetual stream of emigration that flowed, and continued to flow, from the unknown climates of their West. The visits of their last emperors removed the veil of separation, and they disclosed to their eyes the powerful nations of Europe, whom"
      ],
      "text/plain": [
       "<IPython.core.display.HTML object>"
      ]
     },
     "metadata": {},
     "output_type": "display_data"
    },
    {
     "name": "stdout",
     "output_type": "stream",
     "text": [
      "----------------------------------------\n",
      "Result 15\n",
      "Fate Of The Eastern Empire.—Part III.\n"
     ]
    },
    {
     "data": {
      "text/html": [
       "by Leo the philosopher.     Whatever titles a despot may assume, whatever claims he may assert, it is on the sword that he must ultimately depend to guard him against his foreign and domestic enemies. From the age of Charlemagne to that of the <b class=\"match term0\">Crusades</b>, the world (for I overlook the remote monarchy of China) was occupied and disputed by the three great empires or nations of the Greeks, the Saracens, and the Franks. Their military strength may be ascertained by a comparison of their courage, their arts and riches, and their obedience to a supreme head"
      ],
      "text/plain": [
       "<IPython.core.display.HTML object>"
      ]
     },
     "metadata": {},
     "output_type": "display_data"
    },
    {
     "name": "stdout",
     "output_type": "stream",
     "text": [
      "----------------------------------------\n",
      "Result 16\n",
      "Prospect Of The Ruins Of Rome In The Fifteenth Century.—Part II\n"
     ]
    },
    {
     "data": {
      "text/html": [
       "invasion and settlements of the Barbarians of Germany and Scythia; the institutions of the civil law; the character and religion of Mahomet; the temporal sovereignty of the popes; the restoration and decay of the Western empire of Charlemagne; the <b class=\"match term2\">crusades</b> of the Latins in the East: the conquests of the Saracens and Turks; the ruin of the Greek empire; the state and revolutions of Rome in the middle age. The historian may applaud the importance and variety of his subject; but while he is conscious of his own imperfections, he must often accuse the deficiency"
      ],
      "text/plain": [
       "<IPython.core.display.HTML object>"
      ]
     },
     "metadata": {},
     "output_type": "display_data"
    },
    {
     "name": "stdout",
     "output_type": "stream",
     "text": [
      "----------------------------------------\n",
      "Result 17\n",
      "Schism Of The Greeks And Latins.—Part II.\n"
     ]
    },
    {
     "data": {
      "text/html": [
       "decline and fall of the Roman empire, I have reached at length the last reign of the princes of Constantinople, who so feebly sustained the name and majesty of the Cæsars. On the decease of John Palæologus, who survived about four years the Hungarian <b class=\"match term3\">crusade</b>,     The _protovestiare_, or great chamberlain, Phranza sailed from Constantinople as the minister of a bridegroom; and the relics of wealth and luxury were applied to his pompous appearance. His numerous retinue consisted of nobles and guards, of physicians and monks: he was attended by a band of music"
      ],
      "text/plain": [
       "<IPython.core.display.HTML object>"
      ]
     },
     "metadata": {},
     "output_type": "display_data"
    },
    {
     "name": "stdout",
     "output_type": "stream",
     "text": [
      "----------------------------------------\n",
      "Result 18\n",
      "Partition Of The Empire By The French And Venetians.—Part II.\n"
     ]
    },
    {
     "data": {
      "text/html": [
       "a law of succession, the guardian both of the prince and people, was gradually defined and confirmed in the hereditary monarchies of Europe. In the support of the Eastern empire, Henry was gradually left without an associate, as the heroes of the <b class=\"match term3\">crusade</b> retired from the world or from the war. The doge of Venice, the venerable Dandolo, in the fulness of years and glory, sunk into the grave. The marquis of Montferrat was slowly recalled from the Peloponnesian war to the revenge of Baldwin and the defence of Thessalonica. Some nice disputes of feudal homage...by the Latins to assume the empire of the East. The royal birth of his father, the noble origin of his mother, recommended to the barons of France the first cousin of their king. His reputation was fair, his possessions were ample, and in the bloody <b class=\"match term3\">crusade</b> against the Albigeois, the soldiers and the priests had been abundantly satisfied of his zeal and valor. Vanity might applaud the elevation of a French emperor of Constantinople; but prudence must pity, rather than envy, his treacherous and imaginary greatness. To assert and adorn his title, he was"
      ],
      "text/plain": [
       "<IPython.core.display.HTML object>"
      ]
     },
     "metadata": {},
     "output_type": "display_data"
    },
    {
     "name": "stdout",
     "output_type": "stream",
     "text": [
      "----------------------------------------\n",
      "Result 19\n",
      "The Turks.—Part I.\n"
     ]
    },
    {
     "data": {
      "text/html": [
       "Minor And Syria.—State And Oppression Of Jerusalem.—Pilgrimages To      The Holy Sepulchre.  From the Isle of Sicily, the reader must transport himself beyond the Caspian Sea, to the original seat of the Turks or Turkmans, against whom the first <b class=\"match term3\">crusade</b> was principally directed. Their Scythian empire of the sixth century was long since dissolved; but the name was still famous among the Greeks and Orientals; and the fragments of the nation, each a powerful and independent people, were scattered over the desert from China to the Oxus and the Danube"
      ],
      "text/plain": [
       "<IPython.core.display.HTML object>"
      ]
     },
     "metadata": {},
     "output_type": "display_data"
    },
    {
     "name": "stdout",
     "output_type": "stream",
     "text": [
      "----------------------------------------\n",
      "Result 20\n",
      "Union Of The Greek And Latin Churches.—Part I.\n"
     ]
    },
    {
     "data": {
      "text/html": [
       "to Avignon, on the banks of the Rhône, during a period of seventy years: they represented the hard necessity which had urged him to embrace the alliance of the miscreants, and pronounced by his command the specious and edifying sounds of union and <b class=\"match term3\">crusade</b>. Pope Clement the Sixth,       Yet of all the Byzantine princes, that pupil, John Palæologus, was the best disposed to embrace, to believe, and to obey, the shepherd of the West. His mother, Anne of Savoy, was baptized in the bosom of the Latin church: her marriage with Andronicus imposed a change of name, of apparel"
      ],
      "text/plain": [
       "<IPython.core.display.HTML object>"
      ]
     },
     "metadata": {},
     "output_type": "display_data"
    },
    {
     "name": "stdout",
     "output_type": "stream",
     "text": [
      "----------------------------------------\n",
      "Result 21\n",
      "Reign Of Mahomet The Second, Extinction Of Eastern Empire.—Part IV.\n"
     ]
    },
    {
     "data": {
      "text/html": [
       "felt and magnified in its loss: the pontificate of Nicholas the Fifth, however peaceful and prosperous, was dishonored by the fall of the Eastern empire; and the grief and terror of the Latins revived, or seemed to revive, the old enthusiasm of the <b class=\"match term2\">crusades</b>. In one of the most distant countries of the West, Philip duke of Burgundy entertained, at Lisle in Flanders, an assembly of his nobles; and the pompous pageants of the feast were skilfully adapted to their fancy and feelings"
      ],
      "text/plain": [
       "<IPython.core.display.HTML object>"
      ]
     },
     "metadata": {},
     "output_type": "display_data"
    },
    {
     "name": "stdout",
     "output_type": "stream",
     "text": [
      "----------------------------------------\n",
      "Result 22\n",
      "The Fourth Crusade.—Part II.\n"
     ]
    },
    {
     "data": {
      "text/html": [
       "banquet, he thrice discomfited the Barbarians of the West. These Barbarians had been justly terrified by the report of his naval power; and the sixteen hundred fishing boats of Constantinople     On the tenth day of their encampment at Scutari, the <b class=\"match term1\">crusaders</b> prepared themselves, as soldiers and as Catholics, for the passage of the Bosphorus. Perilous indeed was the adventure; the stream was broad and rapid: in a calm the current of the Euxine might drive down the liquid and unextinguishable fires of the Greeks; and the opposite shores of Europe were"
      ],
      "text/plain": [
       "<IPython.core.display.HTML object>"
      ]
     },
     "metadata": {},
     "output_type": "display_data"
    },
    {
     "name": "stdout",
     "output_type": "stream",
     "text": [
      "----------------------------------------\n",
      "Result 23\n",
      "State Of Rome From The Twelfth Century.—Part I.\n"
     ]
    },
    {
     "data": {
      "text/html": [
       "successors,               The Jews had rejected the Christ when he appeared among them in a plebeian character; and the Romans might plead their ignorance of his vicar when he assumed the pomp and pride of a temporal sovereign. In the busy age of the <b class=\"match term2\">crusades</b>, some sparks of curiosity and reason were rekindled in the Western world: the heresy of Bulgaria, the Paulician sect, was successfully transplanted into the soil of Italy and France; the Gnostic visions were mingled with the simplicity of the gospel; and the enemies of the clergy reconciled their"
      ],
      "text/plain": [
       "<IPython.core.display.HTML object>"
      ]
     },
     "metadata": {},
     "output_type": "display_data"
    },
    {
     "name": "stdout",
     "output_type": "stream",
     "text": [
      "----------------------------------------\n",
      "Result 24\n",
      "Succession And Characters Of The Greek Emperors.—Part I.\n"
     ]
    },
    {
     "data": {
      "text/html": [
       "the banner of the cross for the recovery or relief of the holy sepulchre. The Greek emperors were terrified and preserved by the myriads of pilgrims who marched to Jerusalem with Godfrey of Bouillon and the peers of Christendom. The second and third <b class=\"match term2\">crusades</b> trod in the footsteps of the first: Asia and Europe were mingled in a sacred war of two hundred years; and the Christian powers were bravely resisted, and finally expelled by Saladin and the Mamelukes of Egypt. In these memorable <b class=\"match term2\">crusades</b>, a fleet and army of French and Venetians were diverted from Syria to the Thracian Bosphorus: they assaulted the capital, they subverted the Greek monarchy: and a dynasty of Latin princes was seated near threescore years on the throne of Constantine. VII. The Greeks themselves, during this period...Othman, discriminate the two successive dynasties of the nation, which emerged in the eleventh century from the Scythian wilderness. The former established a splendid and potent kingdom from the banks of the Oxus to Antioch and Nice; and the first <b class=\"match term3\">crusade</b> was provoked by the violation of Jerusalem and the danger of Constantinople. From an humble origin, the Ottomans arose, the scourge and terror of Christendom. Constantinople was besieged and taken by Mahomet II., and his triumph annihilates the remnant, the image, the title, of the Roman empire in the"
      ],
      "text/plain": [
       "<IPython.core.display.HTML object>"
      ]
     },
     "metadata": {},
     "output_type": "display_data"
    },
    {
     "name": "stdout",
     "output_type": "stream",
     "text": [
      "----------------------------------------\n",
      "Result 25\n",
      "Succession And Characters Of The Greek Emperors.—Part IV.\n"
     ]
    },
    {
     "data": {
      "text/html": [
       "with the Latins, Alexius was patient and artful: his discerning eye pervaded the new system of an unknown world and I shall hereafter describe the superior policy with which he balanced the interests and passions of the champions of the first <b class=\"match term3\">crusade</b>. In a long reign of thirty-seven years, he subdued and pardoned the envy of his equals: the laws of public and private order were restored: the arts of wealth and science were cultivated: the limits of the empire were enlarged in Europe and Asia; and the Comnenian sceptre was transmitted to his children"
      ],
      "text/plain": [
       "<IPython.core.display.HTML object>"
      ]
     },
     "metadata": {},
     "output_type": "display_data"
    },
    {
     "name": "stdout",
     "output_type": "stream",
     "text": [
      "----------------------------------------\n"
     ]
    }
   ],
   "source": [
    "from IPython.display import display, HTML\n",
    "# can also highlight where a keyword appears\n",
    "q = qp.parse(u\"The Crusades\")\n",
    "\n",
    "with ix.searcher() as s:\n",
    "    results = s.search(q, limit=None)\n",
    "    results.fragmenter.maxchars = 1000 # increasing context of the highlight\n",
    "    results.fragmenter.surround = 250\n",
    "    for i, hit in enumerate(results):\n",
    "        print(f\"Result {i+1}\")\n",
    "        print(hit['title'])\n",
    "        display(HTML(hit.highlights(\"text\"))) # highlights are given bold html (<b></b>) tags, using IPython to display this\n",
    "        print('--'*20)"
   ]
  },
  {
   "cell_type": "markdown",
   "metadata": {
    "id": "VyxKGyNhqWFv"
   },
   "source": [
    "## Creating a search interface\n",
    "\n",
    "Searching our data is great, but we can go one step further and put a simple graphical interface in front of the search engine. I'll use a Python-based web app framework called `streamlit`. This notebook won't go into depth about how this app is created, but if you are interested, please check out our `Introduction to Streamlit` workshop."
   ]
  },
  {
   "cell_type": "code",
   "execution_count": 11,
   "metadata": {
    "cellView": "form",
    "colab": {
     "base_uri": "https://localhost:8080/"
    },
    "id": "Y0hB3BQwqCgB",
    "outputId": "7fbc3d44-d335-4c60-a1cd-ab9ea6f96ce8"
   },
   "outputs": [
    {
     "name": "stderr",
     "output_type": "stream",
     "text": [
      "UsageError: Line magic function `%%writefile` not found.\n"
     ]
    }
   ],
   "source": [
    "#@title Load all of the code\n",
    "\n",
    "#@markdown Run this cell to get all of the code needed for the application. You need to run this cell only once.\n",
    "%%writefile app.py\n",
    "\n",
    "from whoosh.index import open_dir\n",
    "from whoosh import query\n",
    "from whoosh.qparser import QueryParser\n",
    "from IPython.display import display, HTML, clear_output\n",
    "import re\n",
    "import streamlit as st\n",
    "\n",
    "@st.cache_data\n",
    "def get_index():\n",
    "    return open_dir(\"daf_index\")\n",
    "\n",
    "ix = get_index()\n",
    "\n",
    "st.title(\"Gibbon's *Decline and Fall of the Roman Empire* Simple Search\")\n",
    "with st.expander(\"Searching tips\"):\n",
    "    st.write(\"\"\"\n",
    "    * If you'd like to search for just a single term, you can enter it in the box below.\n",
    "    * If you'd like to search for a phrase, you can enclose it in quotations, such as \"serious complications\".\n",
    "    * A query like \"serious complications\"~5 would return results where \"serious\" and \"complications\" are at most 5 words away from each other.\n",
    "    * AND can be used as a boolean operator and will return results where two terms are both in a passage. AND is automatically placed in a query of two words, so 'latent syphilis' is internally represented as latent AND syphilis.\n",
    "    * OR can be used as a boolean operator and will return results where either one of two terms are in a passage.\n",
    "    * NOT can be used as a boolean operator and will return results which do not include the term following the NOT.\n",
    "    * From these boolean operators, one can construct complex queries like: syphilis AND hospitals NOT \"serious complications\". This query would return results that have both syphilis and hospitals in them, but do not have \"serious complications\".\n",
    "    * Parentheses can be used to group boolean statements. For example, the query syphilis AND (\"serious complications\" OR  hospitals) would return results that have syphilis and either serious complications or hispitals in them.\n",
    "    * If you'd like to search in a specific date range, you can specify it with the date: field. For example, year:[19500101 TO 19600101] syphilis would return results between January 1st, 1950 and January 1st, 1960 that have syphilis in them.\n",
    "    \"\"\")\n",
    "\n",
    "if 'page_count' not in st.session_state:\n",
    "    st.session_state['page_count'] = 0\n",
    "\n",
    "if 'to_see' not in st.session_state:\n",
    "    st.session_state['to_see'] = 10\n",
    "\n",
    "if 'pages' not in st.session_state:\n",
    "    st.session_state['pages'] = []\n",
    "\n",
    "def clear_session_state():\n",
    "    st.session_state['page_count'] = 0\n",
    "    st.session_state['to_see'] = 10\n",
    "    st.session_state['pages'] = []\n",
    "\n",
    "query_str = st.text_input(\"Search\", key=\"search\", on_change=clear_session_state)\n",
    "stemmer = st.toggle('Use stemming', help='If selected, the search will use stemming to find words with the same root. For example, \"running\" will match \"run\" and \"ran\".', on_change=clear_session_state)\n",
    "\n",
    "if stemmer:\n",
    "    parser = QueryParser(\"text\", ix.schema, termclass=query.Variations)\n",
    "else:\n",
    "    parser = QueryParser(\"text\", ix.schema)\n",
    "\n",
    "query = parser.parse(query_str)\n",
    "\n",
    "html_template = \"\"\"\n",
    "<p>{hit}</p>\n",
    "<hr/>\n",
    "\"\"\".strip()\n",
    "\n",
    "class Page:\n",
    "    def __init__(self, results, pageno, items_per_page):\n",
    "        self.results = results\n",
    "        self.pageno = pageno\n",
    "        self.items_per_page = items_per_page\n",
    "\n",
    "    def __len__(self):\n",
    "        return len(self.results)\n",
    "\n",
    "    def __call__(self):\n",
    "        for i, hit in enumerate(self.results):\n",
    "            st.write(f\"<small>Document {i+1} of {len(self.results)}</small>\", unsafe_allow_html=True)\n",
    "            title = hit['title']\n",
    "            st.write(f\"<h4>{title}</h4>\", unsafe_allow_html=True)\n",
    "            r = re.split('\\w\\.\\.\\.\\w', hit.highlights(\"text\").replace(\"\\n\\n\", \"\"))\n",
    "            for h in r:\n",
    "                st.write(html_template.format(hit=h), unsafe_allow_html=True)\n",
    "\n",
    "if query_str:\n",
    "    st.session_state['pages'] = []\n",
    "    with ix.searcher() as searcher:\n",
    "        with st.spinner(\"Searching...\"):\n",
    "            res = searcher.search(query, limit=None)\n",
    "            res.fragmenter.maxchars = 1000\n",
    "            res.fragmenter.surround = 250\n",
    "            pages = (len(res) // st.session_state['to_see']) + 1\n",
    "            for i in range(1, pages):\n",
    "                page = res[i*st.session_state['to_see']-st.session_state['to_see']:i*st.session_state['to_see']]\n",
    "                p = Page(page, i, st.session_state['to_see'])\n",
    "                st.session_state['pages'].append(p)\n",
    "\n",
    "        with st.sidebar:\n",
    "            st.markdown(\"# Page Navigation\")\n",
    "            if st.button('See next page', key='next'):\n",
    "                st.session_state['page_count'] += 1\n",
    "            if st.button('See previous page', key='prev'):\n",
    "                st.session_state['page_count'] -= 1\n",
    "            page_swap = st.number_input('What page do you want to visit?', min_value=1, max_value=len(st.session_state['pages']), value=1)\n",
    "            if st.button('Go to page'):\n",
    "                st.session_state['page_count'] = page_swap-1\n",
    "\n",
    "        st.write(f\"Page {st.session_state['page_count']+1} of {pages-1}\")\n",
    "        if st.session_state['page_count'] < len(st.session_state['pages']):\n",
    "            selected_page = st.session_state['pages'][st.session_state['page_count']]\n",
    "            selected_page()\n",
    "        elif st.session_state['page_count'] < 1:\n",
    "            st.session_state['page_count'] = 0\n",
    "        else:\n",
    "            st.write(\"No more pages!\")"
   ]
  },
  {
   "cell_type": "code",
   "execution_count": null,
   "metadata": {
    "cellView": "form",
    "colab": {
     "base_uri": "https://localhost:8080/"
    },
    "id": "EOFGLfl3phTb",
    "outputId": "ba495707-b4b4-4854-9c84-9c5dc43f7ab8"
   },
   "outputs": [
    {
     "name": "stdout",
     "output_type": "stream",
     "text": [
      "\u001b[K\u001b[?25h\n",
      "added 22 packages, and audited 23 packages in 3s\n",
      "\n",
      "3 packages are looking for funding\n",
      "  run `npm fund` for details\n",
      "\n",
      "2 \u001b[33m\u001b[1mmoderate\u001b[22m\u001b[39m severity vulnerabilities\n",
      "\n",
      "To address all issues, run:\n",
      "  npm audit fix\n",
      "\n",
      "Run `npm audit` for details.\n",
      "\n",
      "\n",
      "\n",
      "\n",
      "Password/Endpoint IP for localtunnel is: 34.148.103.234\n",
      "Copy and paste this in the box in the link below.\n",
      "\n",
      "\n",
      "\n",
      "\n",
      "Click on the link below.\n",
      "your url is: https://chubby-paws-fail.loca.lt\n"
     ]
    }
   ],
   "source": [
    "#@title Start the application\n",
    "\n",
    "#@markdown Run this cell and then wait for the URL to printed below.\n",
    "#@markdown\n",
    "#@markdown Click on it and use the password/Endpoint IP for the password.\n",
    "\n",
    "!npm install localtunnel\n",
    "!streamlit run /content/app.py &>/content/logs.txt &\n",
    "print('\\n'*3)\n",
    "import urllib\n",
    "print(\"Password/Endpoint IP for localtunnel is:\",urllib.request.urlopen('https://ipv4.icanhazip.com').read().decode('utf8').strip(\"\\n\"))\n",
    "print(\"Copy and paste this in the box in the link below.\")\n",
    "print('\\n'*3)\n",
    "\n",
    "print(\"Click on the link below.\")\n",
    "!npx localtunnel --port 8501"
   ]
  },
  {
   "cell_type": "code",
   "execution_count": null,
   "metadata": {
    "id": "drQot7OC7hJf"
   },
   "outputs": [],
   "source": []
  }
 ],
 "metadata": {
  "colab": {
   "provenance": []
  },
  "kernelspec": {
   "display_name": "Python 3",
   "name": "python3"
  },
  "language_info": {
   "codemirror_mode": {
    "name": "ipython",
    "version": 3
   },
   "file_extension": ".py",
   "mimetype": "text/x-python",
   "name": "python",
   "nbconvert_exporter": "python",
   "pygments_lexer": "ipython3",
   "version": "3.10.14"
  }
 },
 "nbformat": 4,
 "nbformat_minor": 0
}