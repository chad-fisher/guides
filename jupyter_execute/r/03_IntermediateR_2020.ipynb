{
 "cells": [
  {
   "cell_type": "markdown",
   "id": "f26bf00f",
   "metadata": {},
   "source": [
    "# Survey analysis in R\n",
    "- author: Kyle Monahan\n",
    "- date: April 2020\n",
    "\n",
    "# Deep Dive into Surveys in R \n",
    "For this workshop, We will be working with the Demographic and Health Surveys (DHS) Children's Data - Children's Recode (KR) dataset. \n",
    "\n",
    "## Background on the data \n",
    "This dataset has one record for every child of interviewed women, born in the five years preceding the survey. It contains the information related to the child's pregnancy and postnatal care and immunization and health. \n",
    "\n",
    "The data for the mother of each of these children is included. This file is used to look at child health indicators such as immunization coverage, vitamin A supplementation, and recent occurrences of diarrhea, fever, and cough for young children and treatment of childhood diseases. The unit of analysis (case) in this file is the children of women born in the last 5 years (0-59 months).\n",
    "\n",
    "Each record is a **row** (observation), each **column** is a variable. \n",
    "\n",
    "## Applying what we have learned - Explore the Relationship Between Breastfeeding among Children 12-23 Month-Old and Wasting (Weight-for-Height) Status\n",
    "## Install and Load Packages\n",
    "\n",
    "In this part, we will explore the relationship between breastfeeding among children 12-23 months old and wasting (Weight-for-height). We will use a few different packages in this part of the tutorial. Packages add functionality to our R, so we have new functions to access. The general way to denote packages in R is: `package::function()`. \n",
    "\n",
    "The packages we will install and load are: \n",
    "\n",
    "* `tidyverse` contains https://cran.r-project.org/web/packages/tidyverse/index.html multiple packages in the tidyverse family, including packages used in this tutorial: \n",
    "* `dplyr` for data manipulation/engineering and `ggplot` for data visualization.\n",
    "* `haven` is used for importing and exporting data files,\n",
    "* `survey` is a package specifically designed for analyzing complex surveys.\n",
    "\n",
    "Installing packages is an important part of working in R. After install, we then load the package in R with `library(packagenamehere)`."
   ]
  },
  {
   "cell_type": "code",
   "execution_count": 1,
   "id": "bde560d9",
   "metadata": {
    "include": true,
    "name": "packages"
   },
   "outputs": [
    {
     "ename": "ERROR",
     "evalue": "Error in library(\"tidyverse\"): there is no package called ‘tidyverse’\n",
     "output_type": "error",
     "traceback": [
      "Error in library(\"tidyverse\"): there is no package called ‘tidyverse’\nTraceback:\n",
      "1. library(\"tidyverse\")"
     ]
    }
   ],
   "source": [
    "#Uncomment the line below if you have not installed these.\n",
    "#install.packages(c(\"tidyverse\", \"haven\", \"survey\"), repos = \"https://cloud.r-project.org\")\n",
    "library(\"tidyverse\")\n",
    "library(\"haven\")\n",
    "library(\"survey\")\n",
    "\n",
    "# Note version conflict errors are common here - if you see these, you should use package::filter "
   ]
  },
  {
   "cell_type": "markdown",
   "id": "c9af6746",
   "metadata": {},
   "source": [
    "## Data science pipelines and data cleaning \n",
    "\n",
    "The goal for this section is not just to go through an analysis of a survey in R, but rather to prepare you for creating data science \"pipelines\" to complete an analysis. In general, the workflow for the pipeline is: \n",
    "\n",
    "Import -> Tidy -> Understand (Transform <-> Visualize <-> Model) -> Communicate\n",
    "\n",
    "We will next import data, clean (or tidy) those data, understand (analyze the survey), model our results, and leave it to you to communicate our results! \n",
    "\n",
    "To access these materials please reach out to DataLab-Support@elist.tufts.edu.\n",
    "\n",
    "## Import Data \n",
    "Once we download the DHS Model Dataset \"Children's Data - Children's Recode (KR)\" from https://dhsprogram.com/data/Download-Model-Datasets.cfm?flag=1, we will import the data into R. This practice data set uses child as the unit of analysis.\n",
    "Note: we will download the Stata format (.DTA) from the website, but you can also download the SAS or SPSS formats and then import into R using the loaded pacakge `haven`."
   ]
  },
  {
   "cell_type": "code",
   "execution_count": null,
   "id": "19cafb66",
   "metadata": {
    "lines_to_next_cell": 2,
    "name": "import",
    "tags": [
     "remove_cell"
    ]
   },
   "outputs": [],
   "source": [
    "#Download the file from Kyle's personal Tufts Box, so we don't have to download the file, using the function download.file()\n",
    "#In the future, you should actually download the file from the website above, to learn about how to do this  \n",
    "dhs_full<-haven::read_dta(\"ZZKR62FL.DTA\") #Read the data in as an R object \n",
    "\n",
    "#If needed, the data is also available for download here: https://tufts.box.com/v/DataScience101"
   ]
  },
  {
   "cell_type": "markdown",
   "id": "c4e18db8",
   "metadata": {},
   "source": [
    "## Data Management\n",
    "Here we will create a subset of selected variables and observations suitable for exploring our research question.\n",
    "First, we limit the subset to observations of children aged **between 12 and 23 month-old** whose anthropometric measurements were taken in the model dataset based on hw1 (age of child) and hw13 (whether antropometric measurements taken).\n",
    "\n",
    "Then, we will limit the subset to the selected variable list below: \n",
    "  1. `caseid` identification number\n",
    "  2. `m4` **Primary Independent Variable**: Breastfeeding (93 Ever breastfed, not currently breastfeeding;94 Never breastfed; 95 Still breastfeeding; 97 Inconsistent; 98 Don't know; 99 Missing) Note that +/- 99 / 999 / 9999 etc. are common missing data values. \n",
    "  2. `hw11`  **Outcome of Interest**: Weight/Height standard deviation (based on WHO growth standards). It needs to be divided by 100 to use as Weight-for-Height Z-scores (WHZ); 9998 should be excluded because it is code for \"incosistent\". A WHZ score from -2 to -3 is an an indicator of moderate acute malnutrition and if it is below -3 it is an indicator of severe acute malutrition. \n",
    "  3. `hw1`    Child's age in months\n",
    "  4. `hw13` Result of measurement - Whether height/weight measurements were taken (0 = measured)\n",
    "  5. A set of variables will be used to construct a new variable on complementary feeding based on reported consumption of appropriate complementary foods in the 24 hours preceding the interview:\n",
    "      `v411` Gave child tinned, powdered or fresh milk\n",
    "      `v412` Gave child fresh milk\n",
    "      `v411a`Gave child baby formula\n",
    "      `v412a`Gave child fortified baby food (cerelac, etc)\n",
    "      `v414a`-`v414w`\tGave child complementary foods from a defined range of options including country-specific foods\n",
    "  6. `v190` household Wealth index (in quintiles from 1 poorest to 5 richest ) \n",
    "  7. `v149` Educational attainment of mother (0-5 no education to higher than secondary)\n",
    "  8. A set of variables will be used to construt a new variable on child morbidity based on reported cough, fever and diarrhea symptoms: \n",
    "      `h31` cough within 2 weeks preceding the survey (0=no, 1=yes within 24 hours, 2= yes within 2 weeks, 8= don't know)\n",
    "      `h22` fever within 2 weeks preceding the survey (0=no, 1=yes, 8= don't know)\n",
    "      `h11` diarrhea within 2 weeks preceding the survey (1=yes within 24 hours, 2= yes within 2 weeks, 8= don't know)\n",
    "  9. `v005` sample weight used for this dataset to make sample data representative of the entire population. Like other variables in DHS datasets, decimal points are not included in the weight variable. We need to divide this variable by 1,000,000 to get the correct sampling weight. \n",
    "  10. `V021` primary sampling unit (PSU) for women and children\n",
    "  11. `v002` secondary sampling unit (SSU) for women and children\n",
    "  12. `v023` stratification variable used to design the sample"
   ]
  },
  {
   "cell_type": "markdown",
   "id": "ebf1a086",
   "metadata": {},
   "source": [
    "## Note on pipes and plumbing \n",
    "We will also learn how to use pipe operators %>% to do multiple steps of data manipulation in an efficient way! Pipe operators pass the value from one function to another, without having to explicity call the function! \n",
    "\n",
    "final_data <- imported_data %>%\n",
    "              filter() %>% #Select certain variables\n",
    "              mutate() %>% #Create a new variable"
   ]
  },
  {
   "cell_type": "code",
   "execution_count": null,
   "id": "91a892e3",
   "metadata": {},
   "outputs": [],
   "source": [
    "\n",
    "dhs_example<-dhs_full %>% \n",
    "  filter(between(hw1,12,23), hw13==0, hw11!= 9998 & !is.na(hw11), \n",
    "         m4 %in% c(93,94,95)) %>% \n",
    "  mutate(whz= hw11/100,\n",
    "         sample_weight=v005/1000000) %>%\n",
    "  select(caseid, age=hw1,whz, breastfeed=m4, v411, v411a, v412, v412a, \n",
    "         starts_with(\"v414\"),  wealth_index=v190, mother_edu=v149, h31, \n",
    "         h22,h11, sample_weight, psu=v021, ssu=v002, strat=v023 )\n",
    "    "
   ]
  },
  {
   "cell_type": "code",
   "execution_count": null,
   "id": "9b6e2007",
   "metadata": {},
   "outputs": [],
   "source": [
    "head(dhs_full)"
   ]
  },
  {
   "cell_type": "markdown",
   "id": "76944870",
   "metadata": {},
   "source": [
    "> [TASK] Question for the class: How many observations are there in the new subset? Hint: Where can you find the number of observations? "
   ]
  },
  {
   "cell_type": "markdown",
   "id": "d6e53507",
   "metadata": {},
   "source": [
    "## Recoding Existing Variables and Creating New Variables\n",
    "When working with survey datasets, we commonly would like to create index variables which act as products of multiple variables, or use reasonable cutoffs for previously collected variables. In order to do this, we need to construct additional variables by **recoding existing variables**. \n",
    "\n",
    "We will construct two new variables based on existing variables:\n",
    "\n",
    " 1) a binary variable `mdd` as the WHO Minimum Dietary Diversity indicator for assessing complementary feeding among children 6-23mo, defined as \"consuming foods from >= 4 food groups in the 24 hours preceding the interview. (v412a = 1 or v412b = 1 or any of v414a- v414w = 1 or m39a = 1). \n",
    " \n",
    " This is based on existing variables using the following rules:\n",
    "  A minimum dietary diversity of 4 or more of the following food groups:\n",
    "\n",
    "          a.Grains, roots and tubers (v412a = 1 or v414e = 1 or v414f = 1)\n",
    "\n",
    "          b.Legumes and nuts (v414o = 1)\n",
    "\n",
    "          c.Dairy products (milk, yogurt, cheese) (v411 = 1 or v411a = 1 or or v412=1 or v414v = 1 or v414p = 1)\n",
    "\n",
    "          d.Flesh foods (meat, fish, poultry and liver/organ meats) (v414h = 1 or v414m = 1 or v414n = 1)\n",
    "\n",
    "          e.Eggs (v414g = 1)\n",
    "\n",
    "          f.Vitamin A rich fruits and vegetables (v414i = 1 or v414j = 1 or v414k = 1)\n",
    "\n",
    "          g. Other fruits and vegetables (v414l = 1)\n",
    "          \n",
    " >> Note: another WHO indicator for complementary feeding, minimum meal frequency, can also be derived from DHS variables for our sample's age group, and it reflects a different dimension of complementary feeding. However, due to time constraints in this workshop, we will only use Minimum Dietary Diversity in this analysis as a proxy to complementary feeding status.  \n",
    " \n",
    " 2) a binary variable `morbidty` to classify presence of morbidity within 2 weeks preceding the survey. (h31 or h11= 1 or 2 or h22=1)"
   ]
  },
  {
   "cell_type": "markdown",
   "id": "565baab3",
   "metadata": {},
   "source": [
    "At this point, we need to start creating each subset of variables that we outlined above. To do this, the general approach is to recode the variables as common names, and then investigate the detail of data that we have to work with. \n"
   ]
  },
  {
   "cell_type": "code",
   "execution_count": null,
   "id": "4e685810",
   "metadata": {},
   "outputs": [],
   "source": [
    "##Factor categorical variables\n",
    "cfvarname <- names(select(dhs_full, starts_with(\"v414\")))\n",
    "catvar <- c( \"breastfeed\", cfvarname, \"v411\", \"v412\",\"v411a\",\"v412a\", \"wealth_index\", \"h31\", \"h22\", \"h11\", \"psu\", \"ssu\", \"strat\")\n",
    "dhs_example[catvar]<- lapply(dhs_example[catvar], factor)\n",
    "summary(dhs_example)"
   ]
  },
  {
   "cell_type": "markdown",
   "id": "a78b7613",
   "metadata": {},
   "source": [
    "But look at the number of observations in breastfeed (v411) for `v411 = 94` (never breastfed). This not a large enough sub-group size. However, we can recode breastfeeding into a binary (0/1) variable. This is more useful for our research question of the role of breastfeeding as well. \n",
    "\n",
    "To do this, we use the `mutate()` function in the package `dplyr`."
   ]
  },
  {
   "cell_type": "markdown",
   "id": "14e4ef58",
   "metadata": {},
   "source": [
    "> [TASK]: Try to go ahead and look up mutate(), using `??dplyr::mutate` on the Console window. \n",
    "\n",
    "The mutate function adds new variables based on existing variables, and preserves the existing ones. The `case_when()` allows us to use mutliple if statements (if this then that AND if this then that OR if this then that AND if that than this...etc). Note that the new symbol, |, is called OR. For more information on the formal logic in R, feel free to reach out to Kyle directly. \n"
   ]
  },
  {
   "cell_type": "code",
   "execution_count": null,
   "id": "71e2eaa1",
   "metadata": {},
   "outputs": [],
   "source": [
    "#As shown in the summary descriptive statstics for breastfeed, there are only 5 observations for code 94 (never breastfed) in the model dataset, which is not sufficient to be analyzed as a subgroup. As a result, we will recode breastfeeding status into a binary variable on current breastfeeding status: 1 breastfeeding 2 not breastfeeding (combining 94 with 93)\n",
    "\n",
    "dhs_example <- dhs_example %>%\n",
    "  mutate(breastfeed = factor(case_when(\n",
    "    breastfeed==93 | breastfeed==94 ~ 0,\n",
    "    TRUE ~ 1)))\n",
    "\n",
    "##Construct a new variable for Minimum Dietary Diversity (MDD) for complementary feeding based on WHO criteria\n",
    "#There are two logical steps invovled in the mutate function below: 1) construct new variables for each food group based on existing variables 2) construct MDD based on counts by summing food group variables\n",
    "\n",
    "dhs_example<- dhs_example %>% \n",
    "          mutate( \n",
    "                    grain = case_when(\n",
    "                       v412a==1| v414e==1| v414f==1 ~ 1,\n",
    "                      TRUE ~ 0\n",
    "                    ), # Grains, roots and tubers\n",
    "                    legume =case_when(\n",
    "                       v414o==1 ~ 1,\n",
    "                      TRUE ~ 0\n",
    "                    ), # Legumes and nuts\n",
    "                    dairy= case_when(\n",
    "                      v411==1|v411a==1|v412==1|v414v==1| v414p==1 ~ 1,\n",
    "                      TRUE ~ 0\n",
    "                    ), # Dairy products (milk, yogurt, cheese, baby formula)\n",
    "                    flesh =case_when(\n",
    "                       v414h==1| v414m==1| v414n==1 ~ 1,\n",
    "                      TRUE ~ 0\n",
    "                    ), # Flesh foods (meat, fish, poultry and liver/organ meats)\n",
    "                    egg =case_when(\n",
    "                      v414g==1 ~ 1,\n",
    "                      TRUE ~ 0\n",
    "                    ), # Eggs\n",
    "                    vavegfru = case_when(\n",
    "                       v414i==1| v414j==1| v414k==1 ~ 1,\n",
    "                      TRUE ~ 0\n",
    "                    ),# Vitamin A rich fruits and vegetables\n",
    "                    othervegfru=case_when(\n",
    "                       v414l==1 ~ 1,\n",
    "                      TRUE ~ 0\n",
    "                    ), # Other vegtable and fruits\n",
    "                    \n",
    "                    mdd= factor(case_when(\n",
    "                      grain+ legume + dairy +flesh+egg +vavegfru + othervegfru >=4 ~1,\n",
    "                    TRUE ~ 0\n",
    "                    ))  #this is the step to construct mdd based on counts of food groups\n",
    "    \n",
    "              ) %>% #close mutate \n",
    "        select(-starts_with(\"v414\"),-v412a,-v411,-v411a) #we can now remove the DHS existing variables used for constructing complementary feeding status from the dataset\n"
   ]
  },
  {
   "cell_type": "code",
   "execution_count": null,
   "id": "6652ac9d",
   "metadata": {
    "lines_to_next_cell": 2
   },
   "outputs": [],
   "source": [
    "head(dhs_example)"
   ]
  },
  {
   "cell_type": "markdown",
   "id": "bb3ffb52",
   "metadata": {},
   "source": [
    "Now, will you be able to construct the morbidity variable based on presence of cough, diarhea, and fever (h31, h11, and h22)? Think about which functions you might want to use. You would have to use `mutate()` to create the variable and `case_when()` to select all the disease states that are present when morbidity is present (if cough = 1 (yes) | (or) if fever = 1 | if ...etc.). \n",
    "\n",
    "A few new things: \n",
    "* The `|` symbol means boolean OR, which you can think of as the word OR. \n",
    "* We commonly see 1 = yes in datasets, but we can always check the metadata (if it exists)\n",
    "\n",
    "\n",
    "\n",
    "\n",
    "\n",
    "\n"
   ]
  },
  {
   "cell_type": "code",
   "execution_count": null,
   "id": "4edc1eb3",
   "metadata": {},
   "outputs": [],
   "source": [
    "## Construct morbidty variable\n",
    "dhs_example <- mutate(dhs_example, morbidity = factor(case_when(\n",
    "                      h31 == 1 | h31 ==2 |h11 == 1 |h11 ==2|h22==1 ~1,\n",
    "                      TRUE ~0\n",
    "                      )))\n",
    "\n"
   ]
  },
  {
   "cell_type": "markdown",
   "id": "f8d414bb",
   "metadata": {},
   "source": [
    "We also need to create another variable for wasting. "
   ]
  },
  {
   "cell_type": "code",
   "execution_count": null,
   "id": "4b97aea8",
   "metadata": {},
   "outputs": [],
   "source": [
    "## We can also construct a binary variable on wasting based on WHZ<=-2\n",
    "dhs_example<-mutate(dhs_example, wasting = factor(case_when(\n",
    "                whz<=-2 ~1,\n",
    "                TRUE ~0\n",
    "    \n",
    "              )))"
   ]
  },
  {
   "cell_type": "markdown",
   "id": "5bb32616",
   "metadata": {},
   "source": [
    "##Specifying the Survey Design for Descriptive and Inferential Statstics"
   ]
  },
  {
   "cell_type": "markdown",
   "id": "2ec100f7",
   "metadata": {},
   "source": [
    "When using the `survey` pacakge, we allow appropriate handling of the DHS survey sample design when analyzing the data.\n",
    "Specifically, we set up the survey design object `design` using DHS sampling units(primary and secondary), stratification, and sample weights as specified in the model data set for children. Note that you **must** create the design object before continuing to the analysis. "
   ]
  },
  {
   "cell_type": "code",
   "execution_count": null,
   "id": "2fa821b5",
   "metadata": {},
   "outputs": [],
   "source": [
    "design<-svydesign(ids=~psu+ssu, strata=~strat, weights=~sample_weight, data=dhs_example)  \n",
    "summary(design)"
   ]
  },
  {
   "cell_type": "markdown",
   "id": "50779106",
   "metadata": {},
   "source": [
    "This output tells us the variables we have added, and the general design of the survey instrument. The variables you see at the end allow us to double check if we have any missing values. "
   ]
  },
  {
   "cell_type": "markdown",
   "id": "c7e6b6a5",
   "metadata": {},
   "source": [
    "##Descriptive Statistics\n",
    "\n",
    "Just as before, we can use functions in R to extract descriptive statistics on this survey. However, as this is a survey, we need to use functions like `svymean()` to do it. "
   ]
  },
  {
   "cell_type": "code",
   "execution_count": null,
   "id": "b6c4e0f7",
   "metadata": {},
   "outputs": [],
   "source": [
    "##Report summary statistics on means and SEs \n",
    "vars<-c(\"whz\",\"age\",\"mother_edu\",\"wealth_index\",\"breastfeed\",\"mdd\",\"grain\",\"legume\",\"dairy\",\"flesh\",\"egg\",\"vavegfru\",\"othervegfru\", \"wasting\" )\n",
    "\n",
    "svymean(make.formula(vars),design, na.rm = TRUE)\n",
    "\n",
    "#Note that for categorical variables, frequency is reported for each category.\n",
    "\n",
    "##summary statstics by breastfeed status \n",
    "svyby(~whz+age+mother_edu+wealth_index+mdd+wasting,~breastfeed,design, svymean)\n",
    "\n",
    "#We can see that some of the covariates vary by breastfeed, further supporting accounting for them in the statstical model.\n",
    "\n",
    "\n"
   ]
  },
  {
   "cell_type": "markdown",
   "id": "6702229b",
   "metadata": {
    "lines_to_next_cell": 0
   },
   "source": [
    "The last line of code, using the function `svyby()` allows us to stratify (split) the values by our breastfeed variable. We see some differences in mean values among our covariates within an initial look, so we decide to move forward (tentatively) with our model. \n",
    "\n",
    "We also might find the weak nature of these differences to suggest that a strong effect may not exist in this sample data for breadfeeding, but we need to know more to claim that. Next, we move into looking at correlations within our variables. \n",
    "\n",
    "Note: we are not diving into the assumptions of linear regression here. If you would like to learn more about why investigating and accounting for colinearity is important, please see here: https://moderndive.com/7-multiple-regression.html\n",
    "\n",
    "##Correlations and Exploratory Analysis\n",
    "\n",
    "We need to look at our next outcome: whz and the independent variable: breastfeed and the covariates: age mother_edu wealth_index mdd. These could be correlated, and we must address any potential association. \n",
    "\n",
    "First, we load the package `jtools` which has a function called `svycor` in it. "
   ]
  },
  {
   "cell_type": "code",
   "execution_count": null,
   "id": "884ecf33",
   "metadata": {},
   "outputs": [],
   "source": [
    "# Uncomment to install jtools if needed\n",
    "#install.packages(\"jtools\", repos = \"https://cloud.r-project.org\")\n",
    "library(jtools)\n"
   ]
  },
  {
   "cell_type": "code",
   "execution_count": null,
   "id": "d9c56e54",
   "metadata": {
    "lines_to_next_cell": 0
   },
   "outputs": [],
   "source": [
    "cor_d <- jtools::svycor(~whz+dairy, design = design) #Find the survey correlations betweehn whz and dairy\n",
    "cor_d$cors                                   #Print the cors values\n",
    "#cor_d$p.values                               #Print the p-value\n",
    "#For more information, see here: https://www.jacob-long.com/post/survey-correlation/\n"
   ]
  },
  {
   "cell_type": "markdown",
   "id": "068300c0",
   "metadata": {},
   "source": []
  },
  {
   "cell_type": "markdown",
   "id": "af9c10c0",
   "metadata": {},
   "source": [
    "## Statistical Modeling -Simple Linear Regression\n",
    "Typically, `glm` is used in R for generalized linear models. The survey package's `svyglm` functions are written based on `glm`, but are survey-weighted. Remember, everything we do in this analysis has to account for the survey's structure. "
   ]
  },
  {
   "cell_type": "markdown",
   "id": "18ebf367",
   "metadata": {},
   "source": [
    "We will first fit a simple linear regression between breastfeeding and height-for-age z-scores. "
   ]
  },
  {
   "cell_type": "code",
   "execution_count": null,
   "id": "5a54621b",
   "metadata": {},
   "outputs": [],
   "source": [
    "slr<-svyglm(whz ~ breastfeed, design)\n",
    "summary(slr) \n"
   ]
  },
  {
   "cell_type": "markdown",
   "id": "e6c91c4f",
   "metadata": {},
   "source": [
    "> You might wonder, how should I interpret this? Look at the help file and select a few things to interpret.\n",
    "\n",
    "??svyglm()\n",
    "\n",
    "> You can also look at relevant articles: https://www.theanalysisfactor.com/r-glm-model-fit/ \n",
    "\n",
    "For a tip on how to find articles, take a look at the Error Troubleshooting Guide: https://tufts.box.com/v/EffectiveProblemSolving "
   ]
  },
  {
   "cell_type": "markdown",
   "id": "275b4ad1",
   "metadata": {},
   "source": [
    "## Regression diagnostics \n",
    "Finally, we can do some diagnostics, to see how much we trust this model. We can look as a histogram and Shapiro Test of the residuals to see if they are normally distrubuted. The right tail is a bit long by visual inspection, and we would not trust this model much. \n",
    "\n",
    "This is confirmed with the S-W test, and additionally by our initial inspection of the stratified values. This should make sense, as this is a homogenous model dataset meant for practice. \n"
   ]
  },
  {
   "cell_type": "code",
   "execution_count": null,
   "id": "de6c2aa2",
   "metadata": {
    "lines_to_next_cell": 2
   },
   "outputs": [],
   "source": [
    "##residual diagnostics\n",
    "\n",
    "###Check normality of residuals\n",
    "svyhist(~residuals(slr), design) #visually examine the distribution using a histogram\n",
    "\n",
    "shapiro.test( svytable( ~ residuals(slr), design ) ) #test normality via shapiro  \n",
    "\n",
    "survey::svyqqmath(~residuals(slr), design)\n",
    "#We could also use svyplot() to plot the residuals, investigate normality, etc. \n",
    "\n"
   ]
  },
  {
   "cell_type": "markdown",
   "id": "a89dabcd",
   "metadata": {},
   "source": [
    "## Regression Modeling -Multiple Linear Regression\n",
    "We will then fit a multiple linear regression between breastfeeding and height-for-age z-score "
   ]
  },
  {
   "cell_type": "code",
   "execution_count": null,
   "id": "ef986e80",
   "metadata": {},
   "outputs": [],
   "source": [
    "mlr<-svyglm(whz ~ breastfeed+age+mother_edu +wealth_index+ mdd, design)\n",
    "summary(mlr) \n",
    "\n",
    "##check multicollinearity "
   ]
  },
  {
   "cell_type": "markdown",
   "id": "43dd773c",
   "metadata": {},
   "source": [
    "The below portion is optional. We may not complete it during our time in the workshop, but it is here to further your knowledge. Thank you very much for attending!\n",
    "\n",
    "## OPTIONAL: Adding Interaction Terms between Breastfeed and Minimum Dietary Diversity \n",
    "It is possible that relationship between breastfeeding and WHZ differs by whether the child also met MDD. We will add an interaction term to explore that. An interaction term, at its core, is the product of two variables. "
   ]
  },
  {
   "cell_type": "code",
   "execution_count": null,
   "id": "75985665",
   "metadata": {
    "lines_to_next_cell": 2
   },
   "outputs": [],
   "source": [
    "mlr_int<-svyglm(whz ~ breastfeed * mdd +age+mother_edu +wealth_index, design)\n",
    "summary(mlr_int) "
   ]
  },
  {
   "cell_type": "markdown",
   "id": "5da375cf",
   "metadata": {},
   "source": [
    "# Logistical Regression\n",
    "We can also use the wasting variable as the outcome instead of WHZ to build a logit model. \n",
    "\n",
    "Of course, these models are not sufficient and we would need to understand more more about the dataset to create a publishable model, but this is a good start!"
   ]
  },
  {
   "cell_type": "code",
   "execution_count": null,
   "id": "65fb55f5",
   "metadata": {},
   "outputs": [],
   "source": [
    "\n",
    "logit_bi<-svyglm(wasting ~ breastfeed, design, family=binomial())\n",
    "summary(logit_bi)\n",
    "logit<-svyglm(wasting ~ breastfeed * mdd +age+mother_edu +wealth_index, design, family=binomial())\n",
    "\n",
    "summary(logit)"
   ]
  },
  {
   "cell_type": "markdown",
   "id": "cec688bc",
   "metadata": {},
   "source": [
    "Thank you for attending! I wish you all the best and feel free to reach out to DataLab-Support@elist.tufts.edu with any questions."
   ]
  }
 ],
 "metadata": {
  "jupytext": {
   "text_representation": {
    "extension": ".Rmd",
    "format_name": "rmarkdown"
   }
  },
  "kernelspec": {
   "display_name": "R",
   "language": "r",
   "name": "ir"
  },
  "language_info": {
   "codemirror_mode": "r",
   "file_extension": ".r",
   "mimetype": "text/x-r-source",
   "name": "R",
   "pygments_lexer": "r",
   "version": "4.1.3"
  }
 },
 "nbformat": 4,
 "nbformat_minor": 5
}