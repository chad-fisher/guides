{
 "cells": [
  {
   "cell_type": "markdown",
   "id": "53091a7e",
   "metadata": {},
   "source": [
    "# Fast for loops and parallel processing\n",
    "- author: \"Kyle Monahan\n",
    "\n",
    "You may have had the experience of waiting too long for a process to run during your R session. One way that you might have run into this is in for loop. In this walk-through, we will discuss how to speed up for loops in R.\n",
    "\n",
    "We will use the following libraries: \n",
    "\n",
    "* parallel - the base parallel library\n",
    "* doParallel - a foreach library "
   ]
  },
  {
   "cell_type": "code",
   "execution_count": 1,
   "id": "9a760031",
   "metadata": {
    "lines_to_next_cell": 2
   },
   "outputs": [
    {
     "ename": "ERROR",
     "evalue": "Error in library(doParallel): there is no package called ‘doParallel’\n",
     "output_type": "error",
     "traceback": [
      "Error in library(doParallel): there is no package called ‘doParallel’\nTraceback:\n",
      "1. library(doParallel)"
     ]
    }
   ],
   "source": [
    "library(parallel)   # Base parallel library in R, good for general use but not foreach loops. Must worry about exporting the environment from the parallel function, which can be annoying.\n",
    "\n",
    "library(doParallel) # External package, good for foreach and complex loops. Don't need to worry about exporting the environment, it does it for you. \n",
    "\n",
    "library(foreach)  # Needed for foreach loops\n",
    "\n",
    "library(parallelly) # Good for helper functions in parallel work \n"
   ]
  },
  {
   "cell_type": "markdown",
   "id": "4caf0ded",
   "metadata": {},
   "source": [
    "### What is a `for loop`?\n",
    "\n",
    "First, let's say a look at our first for loop. Let's say we wanted to find the value of the number 1 to 10, and print the results. \n",
    "\n",
    "We could write a for loop:\n"
   ]
  },
  {
   "cell_type": "code",
   "execution_count": null,
   "id": "401af83c",
   "metadata": {
    "lines_to_next_cell": 2
   },
   "outputs": [],
   "source": [
    "\n",
    "x <- vector() # Create an empty vector, x, to store our results \n",
    "              # Note how this is outside the loop \n",
    "for(i in 1:10){       # For each value, 1 to 10\n",
    "  x[i] <- sqrt(i)     # Find the square root, and place inside x\n",
    "  }                   # End loop\n",
    "x                     # Call x to see the result\n",
    "\n",
    "# TODO: Change a more useful example than a square root\n",
    "# TODO: Show race conditions as an example"
   ]
  },
  {
   "cell_type": "markdown",
   "id": "be90b9d3",
   "metadata": {},
   "source": [
    "Note how this is appending to a list of values in memory, and then storing those values.\n",
    "\n",
    "Imagine if we had a large number of values, and a large number of loops - this could become quite inefficient. \n",
    "\n",
    "Additionally, by default, R will use only a **single core**. On my machine, a MacBook Pro 14, let's see how many cores I have:"
   ]
  },
  {
   "cell_type": "code",
   "execution_count": null,
   "id": "88c1cdf1",
   "metadata": {},
   "outputs": [],
   "source": [
    "parallel::detectCores()"
   ]
  },
  {
   "cell_type": "markdown",
   "id": "54f78a40",
   "metadata": {},
   "source": [
    "Wow, so I have ten cores, but I have been using only one of them. Let's fix this. \n",
    "\n",
    "What to do about it? Let's start with a new package, `foreach`, to learn more about running things in parallel. "
   ]
  },
  {
   "cell_type": "markdown",
   "id": "4f0ed136",
   "metadata": {},
   "source": [
    "### What about `for each`?\n",
    "\n",
    "We could also implement this loop with `foreach`, to send these individual tasks to separate cores, and then obtain an immediate return of results.\n",
    "\n",
    "This is easier as we do not have to call `x` at the end, and this package can also parallelize beyond just a single core. \n",
    "\n",
    "However, to use this we have to use the `%do` operator. This is a binary operator that tells `foreach` what we want to run, and runs this sequentially on a single core. We will get into running this on many cores with another operator. \n"
   ]
  },
  {
   "cell_type": "code",
   "execution_count": null,
   "id": "0a2a14ac",
   "metadata": {
    "lines_to_next_cell": 0
   },
   "outputs": [],
   "source": [
    "library(foreach)\n",
    "library(doParallel)\n",
    "\n",
    "x <- foreach::foreach(i = 1:10) %do% {\n",
    "  sqrt(i)\n",
    "  }\n",
    "x"
   ]
  },
  {
   "cell_type": "markdown",
   "id": "67a1be33",
   "metadata": {},
   "source": [
    "You can see that it returns separate objects in a list format. It would be nice if we could combine those into a single list. \n",
    "\n",
    "Good news, we can. "
   ]
  },
  {
   "cell_type": "markdown",
   "id": "945cd96a",
   "metadata": {},
   "source": [
    "### Combining a `foreach` loop into a single list\n",
    "\n",
    "Within the `foreach` package, we can use the `.combine` argument to combine them using the `c()` base function."
   ]
  },
  {
   "cell_type": "code",
   "execution_count": null,
   "id": "c659882d",
   "metadata": {},
   "outputs": [],
   "source": [
    "x <- foreach(\n",
    "  i = 1:10, \n",
    "  .combine = 'c'\n",
    ") %do% {\n",
    "    sqrt(i)\n",
    "  }\n",
    "x"
   ]
  },
  {
   "cell_type": "markdown",
   "id": "90ad4643",
   "metadata": {},
   "source": [
    "Great! This is the type of reports we want. \n",
    "\n",
    "So now we can try to run the same command across many cores. To do this, we can use the `%dopar` operator, which is shorthand for \"do parallel.\"\n"
   ]
  },
  {
   "cell_type": "code",
   "execution_count": null,
   "id": "a021c0f7",
   "metadata": {},
   "outputs": [],
   "source": [
    "x <- foreach(\n",
    "  i = 1:10, \n",
    "  .combine = 'c'\n",
    ") %dopar% {\n",
    "    sqrt(i)\n",
    "  }"
   ]
  },
  {
   "cell_type": "markdown",
   "id": "bffcdbdf",
   "metadata": {},
   "source": [
    "Oh no, an error! This is because we need to tell R how many cores we have, and what type of method we want to use to organize and control those control. There are two main types:\n",
    "\n",
    "* FORK:\n",
    "  * Only available via UNIX (Linux and Mac machine), and don't work on the HPC environment due to the shared nature of the . The separate cores (here called workers) do not have to copy the main environment, and can access the environment in a shared way. \n",
    "  \n",
    "* PSOCK: \n",
    "  * The parallel socket cluster (PSOCK) is available for UNIX and Windows systems, but the cores have to each have a copy of the main environment, which can reduce the effectiveness of the results (by about 50% in some cases).\n",
    "  \n",
    "Let's register a **PSOCK cluster**, so it will work anywhere you run it. \n"
   ]
  },
  {
   "cell_type": "code",
   "execution_count": null,
   "id": "1c6bce16",
   "metadata": {
    "lines_to_next_cell": 2
   },
   "outputs": [],
   "source": [
    "# Register a parallel backend for the cluster\n",
    "doParallel::registerDoParallel((parallelly::availableCores()-1))\n",
    "\n",
    "parallelly::availableCores()"
   ]
  },
  {
   "cell_type": "code",
   "execution_count": null,
   "id": "0a8aeec8",
   "metadata": {
    "lines_to_next_cell": 2
   },
   "outputs": [],
   "source": [
    "#create the cluster\n",
    "\n",
    "n.cores <- parallelly::availableCores()-1\n",
    "\n",
    "my.cluster <- parallel::makeCluster(\n",
    "  n.cores, \n",
    "  type = \"PSOCK\"\n",
    "  )\n",
    "\n",
    "print(my.cluster)"
   ]
  },
  {
   "cell_type": "code",
   "execution_count": null,
   "id": "97897c0e",
   "metadata": {},
   "outputs": [],
   "source": [
    "# Register the cluster to be used \n",
    "doParallel::registerDoParallel(cl = my.cluster)\n",
    "\n",
    "# Check if it is registered\n",
    "foreach::getDoParRegistered()   # True, means it is registered\n",
    "foreach::getDoParWorkers()      # Reporting the number of cores that we have"
   ]
  },
  {
   "cell_type": "markdown",
   "id": "2c358f28",
   "metadata": {},
   "source": [
    "Now we can run the code in parallel, finally! Let's compare the two. "
   ]
  },
  {
   "cell_type": "code",
   "execution_count": null,
   "id": "575f8165",
   "metadata": {
    "lines_to_next_cell": 2
   },
   "outputs": [],
   "source": [
    "# Start timer \n",
    "t1 <- proc.time()\n",
    "\n",
    "x <- foreach(\n",
    "  i = 1:10, \n",
    "  .combine = 'c'\n",
    ") %dopar% {\n",
    "    sqrt(i)\n",
    "}\n",
    "\n",
    "x\n",
    "# End timer\n",
    "proc.time() - t1\n"
   ]
  },
  {
   "cell_type": "markdown",
   "id": "218855c0",
   "metadata": {},
   "source": [
    "Let's compare to the single core. \n"
   ]
  },
  {
   "cell_type": "code",
   "execution_count": null,
   "id": "b1ef31ce",
   "metadata": {},
   "outputs": [],
   "source": [
    "# Start timer \n",
    "t1 <- proc.time()\n",
    "\n",
    "x <- foreach(\n",
    "  i = 1:10, \n",
    "  .combine = 'c'\n",
    ") %do% {\n",
    "    sqrt(i)\n",
    "}\n",
    "\n",
    "x\n",
    "# End timer\n",
    "proc.time() - t1\n"
   ]
  },
  {
   "cell_type": "markdown",
   "id": "c6325bd0",
   "metadata": {},
   "source": [
    "It's.... the same time? Or perhaps a little slower! For all that work! "
   ]
  },
  {
   "cell_type": "markdown",
   "id": "badd947d",
   "metadata": {},
   "source": [
    "Well, yes. It's pretty easy to print 10 square root values, and we don't really need the speed up. \n",
    "\n",
    "Let's explore why it is slow.\n",
    "\n",
    "### Profiling in R \n",
    "\n",
    "Now we can profile in R. Let's take a look.\n"
   ]
  },
  {
   "cell_type": "code",
   "execution_count": null,
   "id": "b1cfa5b9",
   "metadata": {
    "lines_to_next_cell": 2
   },
   "outputs": [],
   "source": [
    "# Start profile\n",
    "Rprof(filename = \"Profile1.out\",line.profiling = TRUE, memory.profiling = TRUE)\n",
    "\n",
    "x <- foreach(\n",
    "  i = 1:10, \n",
    "  .combine = 'c'\n",
    ") %dopar% {\n",
    "    sqrt(i)\n",
    "}\n",
    "\n",
    "print(x)\n",
    "\n",
    "Rprof(NULL)\n"
   ]
  },
  {
   "cell_type": "code",
   "execution_count": null,
   "id": "b2d10ebc",
   "metadata": {},
   "outputs": [],
   "source": [
    "\n",
    "summaryRprof(\"Profile1.out\")\n"
   ]
  },
  {
   "cell_type": "markdown",
   "id": "f279d126",
   "metadata": {},
   "source": [
    "This normally will provide greater information, but for us it tells us this runs very quickly, and calls few functions. There are many libraries that help you profile code. You can even go to Profile > Start profiling to do the same thing. \n",
    "\n",
    "Let's use another package:"
   ]
  },
  {
   "cell_type": "code",
   "execution_count": null,
   "id": "e80b9f23",
   "metadata": {},
   "outputs": [],
   "source": [
    "library(profr)\n",
    "p <- profr(\n",
    "  \n",
    "x <- foreach(\n",
    "  i = 1:10, \n",
    "  .combine = 'c'\n",
    ") %dopar% {\n",
    "    sqrt(i)\n",
    "}\n",
    "\n",
    ")\n",
    "print(p)\n"
   ]
  },
  {
   "cell_type": "markdown",
   "id": "1a5548d4",
   "metadata": {},
   "source": [
    "Still, we don't know why this is slower. Let's time and run through approaches 100 times, and then see which is faster after iteration. \n",
    "\n",
    "#### Comparing approaches \n",
    "Let's compare a few approaches:\n",
    "\n",
    "* **lapply** - to create a vectorized list and loop over it\n",
    "* **for loop** - what we saw before, a classic for loop \n",
    "* **foreach dopar** - foreach loop, `%dopar%` to run in the parallel cluster\n",
    "* **foreach do** - foreach loop with `%do%` to run only on single core \n",
    "* **parlapply** - a parallel lapply function\n",
    "* **parsapply** - a parallel sapply function\n",
    "\n",
    "TODO: Let's document and compare the above approaches more."
   ]
  },
  {
   "cell_type": "code",
   "execution_count": null,
   "id": "1190326e",
   "metadata": {
    "lines_to_next_cell": 0
   },
   "outputs": [],
   "source": [
    "# Adapted from: https://liuy12.github.io/2015/08/18/Parallel-processing-in-R-benchmarking.html\n",
    "# Thanks to Yuanhang Liu!\n",
    "\n",
    "library(rbenchmark) # We will benchmark with rbenchmark\n",
    "library(ggplot2)    # ploting with ggplot2 \n",
    "\n",
    "\n",
    "set.seed(42)\n",
    "\n",
    "n.cores <- parallelly::availableCores()-1\n",
    "\n",
    "\n",
    "cl <- makeCluster(n.cores)\n",
    "registerDoParallel(cl)\n",
    "\n",
    "FUN <- function(x) { round(sqrt(x), 4) }\n",
    "a <- lapply(1:10, function(i) i)\n",
    "\n",
    "test1 <- benchmark(\"lapply\" = lapply(1:10, FUN = FUN), \n",
    "                   \"For loop\" = for(i in 1:10){ FUN(i)},\n",
    "                   \"Foreach dopar\" = foreach(i = 1:10) %dopar% FUN(i),\n",
    "                   \"Foreach do\" = foreach(i = 1:10) %do% FUN(i),\n",
    "                   \"parLapply\" = parLapply(cl = cl, X = a, fun = FUN),\n",
    "                   \"parSapply\" = parSapply(cl = cl, X = a, FUN = FUN),\n",
    "                   columns=c('test', 'elapsed', 'replications'),\n",
    "                   replications = c(100, 200, 500, 1000))\n",
    "\n",
    "ggplot() +\n",
    "  geom_line(aes(x = replications, y = elapsed, colour = test), data = test1)\n"
   ]
  },
  {
   "cell_type": "markdown",
   "id": "d65cc197",
   "metadata": {},
   "source": [
    "It looks like for loops and lapply calls were the best here. \n",
    "\n",
    "It really depends on what you are doing, though. Remember, it depends on how fast you can get the data outside of the worker as well. Note how we are using a PSOCK loop as well.  \n",
    "\n",
    "Let's compare this approach to speeding up models. \n"
   ]
  },
  {
   "cell_type": "code",
   "execution_count": null,
   "id": "6c0b9746",
   "metadata": {},
   "outputs": [],
   "source": [
    "FUN <- function(i) {\n",
    "  ind <- sample(100, 100, replace=TRUE)\n",
    "  result1 <- glm(Species~Sepal.Length, family=binomial(logit), data = iris[ind,])\n",
    "  coefficients(result1)\n",
    "}\n",
    "\n",
    "test5 <- benchmark(\"lapply\" = lapply(1:10, FUN = FUN), \n",
    "                   \"For loop\" = for(i in 1:10){ FUN(i)},\n",
    "                   \"Foreach dopar\" = foreach(i = 1:10) %dopar% FUN(i),\n",
    "                   \"Foreach do\" = foreach(i = 1:10) %do% FUN(i),\n",
    "                   \"parLapply\" = parLapply(cl = cl, X = a, fun = FUN),\n",
    "                   \"parSapply\" = parSapply(cl = cl, X = a, FUN = FUN),\n",
    "                   columns=c('test', 'elapsed', 'replications'),\n",
    "                   replications = c(100, 200, 500, 100))\n",
    "\n",
    "ggplot() +\n",
    "  geom_line(aes(x = replications, y = elapsed, colour = test), data = test5)"
   ]
  },
  {
   "cell_type": "markdown",
   "id": "e7e7131f",
   "metadata": {},
   "source": [
    "Now we see that  parLapply and parSapply were best, and foreach do did poorly. "
   ]
  },
  {
   "cell_type": "markdown",
   "id": "bb7648b8",
   "metadata": {},
   "source": [
    "### Stop the cluster\n",
    "\n",
    "Once you're done, we must stop the cluster to release our cores for other users. \n"
   ]
  },
  {
   "cell_type": "code",
   "execution_count": null,
   "id": "df5f4867",
   "metadata": {},
   "outputs": [],
   "source": [
    "parallel::stopCluster(cl = my.cluster)"
   ]
  },
  {
   "cell_type": "markdown",
   "id": "bc19b4c1",
   "metadata": {},
   "source": [
    "### Testing with models \n",
    "\n",
    "Another approach to paralellization is for models. Packages such as `lme4` can be challenging to run on a single core due to computational intensity. "
   ]
  },
  {
   "cell_type": "code",
   "execution_count": null,
   "id": "b55cb866",
   "metadata": {
    "lines_to_next_cell": 2
   },
   "outputs": [],
   "source": [
    "# 1 Set seed for reproducible randomness\n",
    "set.seed(42)\n",
    "\n",
    "# Start timer\n",
    "ptm <- proc.time()\n",
    "cake_model <- lme4::lmer(angle ~ recipe * temperature + (1|recipe:replicate), data = lme4::cake, REML= FALSE)\n",
    "proc.time() - ptm # End timer"
   ]
  },
  {
   "cell_type": "code",
   "execution_count": null,
   "id": "8de4cbc6",
   "metadata": {
    "lines_to_next_cell": 2
   },
   "outputs": [],
   "source": [
    "# 2 Create cluster \n",
    "# Register a parallel backend for the cluster\n",
    "doParallel::registerDoParallel((parallel::detectCores()-1))\n",
    "\n",
    "# Start timer\n",
    "ptm <- proc.time()\n",
    "# 3 Run the model\n",
    "model <- lme4::lmer(formula = cake_model, data=lme4::cake,control=lme4::lmerControl(optimizer=\"nloptwrap\"))\n",
    "proc.time() - ptm # End timer"
   ]
  },
  {
   "cell_type": "code",
   "execution_count": null,
   "id": "a5a5622c",
   "metadata": {},
   "outputs": [],
   "source": [
    "# 4 Once you've moved to lme4, you can pass the model to allFit to check if we really found the most optimal fit\n",
    "# This is where the parallel cluster is used\n",
    "require(optimx)\n",
    "require(dfoptim)\n",
    "nCPU <- detectCores() - 1 \n",
    "ptm <- proc.time()\n",
    "\n",
    "cake_fit <- lme4::allFit(object = model,data = lme4::cake,verbose = TRUE,parallel='multicore',ncpus = nCPU)\n",
    "proc.time() - ptm # End timer"
   ]
  },
  {
   "cell_type": "code",
   "execution_count": null,
   "id": "b811f82a",
   "metadata": {},
   "outputs": [],
   "source": [
    "cake_fit$bobyqa"
   ]
  },
  {
   "cell_type": "code",
   "execution_count": null,
   "id": "7591cd70",
   "metadata": {
    "lines_to_next_cell": 2
   },
   "outputs": [],
   "source": [
    "# Then register a sequential (non-paralell) backend to release the cores\n",
    "registerDoSEQ() "
   ]
  },
  {
   "cell_type": "markdown",
   "id": "09d144f0",
   "metadata": {},
   "source": [
    "Great! So we learned the following things:\n",
    "\n",
    "* What does it mean when we say running something in parallel? \n",
    "* Two ways to run in parallel: PSOCK and FORK \n",
    "* The foreach loop, and comparing sequencial %do% and paralell %dopar%\n",
    "* Sometimes parallelizing doesn't help! (e.g. find 10 square roots, I/O bound processes). Other times, it does (e.g. large scale models, slow processes).\n",
    "* We can try it out, and learn which method is best for each. "
   ]
  },
  {
   "cell_type": "markdown",
   "id": "504f3dc3",
   "metadata": {},
   "source": [
    "Thank you!"
   ]
  }
 ],
 "metadata": {
  "jupytext": {
   "text_representation": {
    "extension": ".Rmd",
    "format_name": "rmarkdown"
   }
  },
  "kernelspec": {
   "display_name": "R",
   "language": "r",
   "name": "ir"
  },
  "language_info": {
   "codemirror_mode": "r",
   "file_extension": ".r",
   "mimetype": "text/x-r-source",
   "name": "R",
   "pygments_lexer": "r",
   "version": "4.1.3"
  }
 },
 "nbformat": 4,
 "nbformat_minor": 5
}