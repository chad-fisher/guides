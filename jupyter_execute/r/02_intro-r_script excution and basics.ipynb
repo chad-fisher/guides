{
 "cells": [
  {
   "cell_type": "markdown",
   "id": "156c87c3",
   "metadata": {},
   "source": [
    "# Introduction to R: R Basics and Running your Script"
   ]
  },
  {
   "cell_type": "markdown",
   "id": "93e7a157",
   "metadata": {},
   "source": [
    "## text of box\n",
    "This tutorial introduces R and demonstrates how to run R code, with practical instructions on setting up the environment, running scripts, and performing basic data manipulations.\n",
    "\n",
    "##Learning Objectives\n",
    "- Understand how to set up and use RStudio.\n",
    "- Learn to execute R scripts and interact with the console.\n",
    "- Familiarize with variables, functions, and vectors in R.\n",
    "- Perform basic descriptive statistics and work with data structures.\n",
    "\n",
    "## Getting Started \n",
    "\n",
    "R is a statistical platform similar to Stata, SAS, and SPSS. This software allows you to manipulate data, perform descriptive statistics, recoding variables, and bringing in your own data. If you're reading this, you've opened RStudio (the development environment for R) and you're on the way! We will walk through this document together in the workshop. \n",
    "\n",
    "If you see code that looks like this: `code`, this refers to code that you could write in the R console. \n",
    "\n",
    "## Set working directory \n",
    "The first thing we need to do is to set a working directory. Go to **Session in the top menu bar > Set Working Directory > To Source File location**. This is always good practice! \n",
    "\n",
    "## Comments\n",
    "\n",
    "You write a comment by adding a `#` to the start of a line in an R script or the code section in R markdown. Or you could select the lines you wish to comment and press **Ctrl/Cmd+Shift+C**. We will not be writing a script, only running one, but the idea is the same. The text in GREEN (if you are using the default theme) is a comment.\n",
    "\n",
    "## Assigning Variables\n",
    "To create a variable, use the assignment operator `<-`. For example:\n",
    "\n",
    "To assign a variable `n` equal to the value two-hundred. \n",
    "If you copy and paste the code to RScript or console pane and the **Run** button or by pressing **Ctrl+Enter**. The variable `n` will appear in the **Environment** tab."
   ]
  },
  {
   "cell_type": "code",
   "execution_count": 1,
   "id": "77906abb",
   "metadata": {},
   "outputs": [],
   "source": [
    "n <- 200\n",
    "# The variable n is set equal to 200. \n",
    "\n",
    "# You can write a comment in an RScript by writing a \"#\""
   ]
  },
  {
   "cell_type": "markdown",
   "id": "fc08266d",
   "metadata": {},
   "source": [
    "This created a variable `n` which we can access in R. The value appears in the Environment tab, on the upper right-hand side of the window. \n",
    "\n",
    "> **Tip**: If you cannot see the console window, click on \"Console\" below. The `>` symbol indicates that R is waiting for input.\n",
    "\n",
    "Now if you call n, you will see the console report its value."
   ]
  },
  {
   "cell_type": "code",
   "execution_count": 2,
   "id": "a046aa55",
   "metadata": {
    "lines_to_next_cell": 0
   },
   "outputs": [
    {
     "data": {
      "text/html": [
       "200"
      ],
      "text/latex": [
       "200"
      ],
      "text/markdown": [
       "200"
      ],
      "text/plain": [
       "[1] 200"
      ]
     },
     "metadata": {},
     "output_type": "display_data"
    }
   ],
   "source": [
    "n"
   ]
  },
  {
   "cell_type": "markdown",
   "id": "0d785b1b",
   "metadata": {
    "lines_to_next_cell": 0
   },
   "source": [
    "## Console Window\n",
    "YOUR TURN: Try setting  `n <- 300` in the Console Window! After you are done, print `n`.\n",
    "\n",
    "If you cannot see the Console Window, click on the word \"Console\" below.\n",
    "\n",
    "Try typing 'N' in the Console Window. What happens? The variable 'N' is not found, because 'n' is the name of the variable, not 'N'. R is case-sensitive!\n",
    "\n",
    "## Functions and Vectors\n",
    "What if you have multiple numbers to set as a variable? For example, what if we wanted to store the scores we got on exams? These include 94, 96, 72, and 92.\n",
    "\n",
    "We use the combine function, which is 'c(n, n, n, ... n)'"
   ]
  },
  {
   "cell_type": "code",
   "execution_count": 3,
   "id": "335bd574",
   "metadata": {
    "lines_to_next_cell": 0
   },
   "outputs": [],
   "source": [
    "scores <- c(94, 96, 72, 92)"
   ]
  },
  {
   "cell_type": "markdown",
   "id": "9805da1d",
   "metadata": {
    "lines_to_next_cell": 0
   },
   "source": [
    "This assigns our scores to the variable \"scores\" in the Environment. If we call the variable..."
   ]
  },
  {
   "cell_type": "code",
   "execution_count": 4,
   "id": "a03b51ef",
   "metadata": {
    "lines_to_next_cell": 0
   },
   "outputs": [
    {
     "data": {
      "text/html": [
       "<style>\n",
       ".list-inline {list-style: none; margin:0; padding: 0}\n",
       ".list-inline>li {display: inline-block}\n",
       ".list-inline>li:not(:last-child)::after {content: \"\\00b7\"; padding: 0 .5ex}\n",
       "</style>\n",
       "<ol class=list-inline><li>94</li><li>96</li><li>72</li><li>92</li></ol>\n"
      ],
      "text/latex": [
       "\\begin{enumerate*}\n",
       "\\item 94\n",
       "\\item 96\n",
       "\\item 72\n",
       "\\item 92\n",
       "\\end{enumerate*}\n"
      ],
      "text/markdown": [
       "1. 94\n",
       "2. 96\n",
       "3. 72\n",
       "4. 92\n",
       "\n",
       "\n"
      ],
      "text/plain": [
       "[1] 94 96 72 92"
      ]
     },
     "metadata": {},
     "output_type": "display_data"
    }
   ],
   "source": [
    "scores"
   ]
  },
  {
   "cell_type": "markdown",
   "id": "bde2bfaa",
   "metadata": {
    "lines_to_next_cell": 0
   },
   "source": [
    "We see the values are printed. This is called a vector. One can access the values within a vector by using square braces '[]'. To get the second score, we use..."
   ]
  },
  {
   "cell_type": "code",
   "execution_count": 5,
   "id": "acaf6801",
   "metadata": {
    "lines_to_next_cell": 0
   },
   "outputs": [
    {
     "data": {
      "text/html": [
       "96"
      ],
      "text/latex": [
       "96"
      ],
      "text/markdown": [
       "96"
      ],
      "text/plain": [
       "[1] 96"
      ]
     },
     "metadata": {},
     "output_type": "display_data"
    }
   ],
   "source": [
    "scores[2]"
   ]
  },
  {
   "cell_type": "markdown",
   "id": "28c29243",
   "metadata": {
    "lines_to_next_cell": 0
   },
   "source": [
    "> **Note**: R uses one-based indexing.To get the first score, we use '[1]', not '[0]'.\n",
    "\n",
    "## Operators\n",
    "To check if a vector contains an element, we can use the %in% operator."
   ]
  },
  {
   "cell_type": "code",
   "execution_count": 6,
   "id": "8f4ce186",
   "metadata": {
    "lines_to_next_cell": 0
   },
   "outputs": [
    {
     "data": {
      "text/html": [
       "TRUE"
      ],
      "text/latex": [
       "TRUE"
      ],
      "text/markdown": [
       "TRUE"
      ],
      "text/plain": [
       "[1] TRUE"
      ]
     },
     "metadata": {},
     "output_type": "display_data"
    }
   ],
   "source": [
    "96 %in% scores"
   ]
  },
  {
   "cell_type": "markdown",
   "id": "40452688",
   "metadata": {
    "lines_to_next_cell": 0
   },
   "source": [
    "It returns TRUE if the vector contains the element..."
   ]
  },
  {
   "cell_type": "code",
   "execution_count": 7,
   "id": "3ee2bb2a",
   "metadata": {
    "lines_to_next_cell": 0
   },
   "outputs": [
    {
     "data": {
      "text/html": [
       "FALSE"
      ],
      "text/latex": [
       "FALSE"
      ],
      "text/markdown": [
       "FALSE"
      ],
      "text/plain": [
       "[1] FALSE"
      ]
     },
     "metadata": {},
     "output_type": "display_data"
    }
   ],
   "source": [
    "100 %in% scores"
   ]
  },
  {
   "cell_type": "markdown",
   "id": "1b6ba430",
   "metadata": {},
   "source": [
    "and FALSE if it does not. TRUE and FALSE are boolean datatypes, also known as logical datatypes in R. These are commonly used to denote binary variables.\n"
   ]
  },
  {
   "cell_type": "markdown",
   "id": "3b57b02f",
   "metadata": {
    "lines_to_next_cell": 0
   },
   "source": [
    "## Descriptive Statistics\n",
    "\n",
    "The best thing about having multiple values to work with is that we can calculate various statistics. Most statistical functions in R easily take a whole vector as input. Let us see what our final semester score would be!"
   ]
  },
  {
   "cell_type": "code",
   "execution_count": 8,
   "id": "4bf270a1",
   "metadata": {
    "lines_to_next_cell": 2
   },
   "outputs": [
    {
     "data": {
      "text/html": [
       "88.5"
      ],
      "text/latex": [
       "88.5"
      ],
      "text/markdown": [
       "88.5"
      ],
      "text/plain": [
       "[1] 88.5"
      ]
     },
     "metadata": {},
     "output_type": "display_data"
    },
    {
     "data": {
      "text/html": [
       "93"
      ],
      "text/latex": [
       "93"
      ],
      "text/markdown": [
       "93"
      ],
      "text/plain": [
       "[1] 93"
      ]
     },
     "metadata": {},
     "output_type": "display_data"
    },
    {
     "data": {
      "text/html": [
       "11.1205515450749"
      ],
      "text/latex": [
       "11.1205515450749"
      ],
      "text/markdown": [
       "11.1205515450749"
      ],
      "text/plain": [
       "[1] 11.12055"
      ]
     },
     "metadata": {},
     "output_type": "display_data"
    }
   ],
   "source": [
    "mean(scores)    # mean\n",
    "median(scores)  # median\n",
    "sd(scores)      # standard deviation"
   ]
  },
  {
   "cell_type": "markdown",
   "id": "cf87f9f7",
   "metadata": {},
   "source": [
    "## Running from History\n",
    "Take a look at the **History** tab on the right next to the Environment tab. \n",
    "This is where you will find commands you have run in the past.If you double click one, it will auto fill in the Console below.\n",
    "\n",
    "Select a command from the History tab and double-click on it.\n",
    "Then select the console window and press Enter/Return to run the command."
   ]
  },
  {
   "cell_type": "markdown",
   "id": "96f381cd",
   "metadata": {
    "lines_to_next_cell": 0
   },
   "source": [
    "## The Environment\n",
    "Now click on the Environment tab. We see two objects, labeled as Values. These include scores and n.\n",
    "\n",
    "If you ever forget objects and do not want to click on the Environment tab, you can always call the function objects() for a list of all object names."
   ]
  },
  {
   "cell_type": "code",
   "execution_count": 9,
   "id": "115f3e54",
   "metadata": {
    "lines_to_next_cell": 2
   },
   "outputs": [
    {
     "data": {
      "text/html": [
       "<style>\n",
       ".list-inline {list-style: none; margin:0; padding: 0}\n",
       ".list-inline>li {display: inline-block}\n",
       ".list-inline>li:not(:last-child)::after {content: \"\\00b7\"; padding: 0 .5ex}\n",
       "</style>\n",
       "<ol class=list-inline><li>'n'</li><li>'scores'</li></ol>\n"
      ],
      "text/latex": [
       "\\begin{enumerate*}\n",
       "\\item 'n'\n",
       "\\item 'scores'\n",
       "\\end{enumerate*}\n"
      ],
      "text/markdown": [
       "1. 'n'\n",
       "2. 'scores'\n",
       "\n",
       "\n"
      ],
      "text/plain": [
       "[1] \"n\"      \"scores\""
      ]
     },
     "metadata": {},
     "output_type": "display_data"
    }
   ],
   "source": [
    "objects()"
   ]
  },
  {
   "cell_type": "markdown",
   "id": "62780ced",
   "metadata": {
    "lines_to_next_cell": 0
   },
   "source": [
    "## Modifying a Vector\n",
    "\n",
    "Suddenly, we were able to retake a test. Great!\n",
    "Now we have to replace the value of 72 (the lowest score) with our new score of 85. We can assign the new value to the specific index we want to replace."
   ]
  },
  {
   "cell_type": "code",
   "execution_count": 10,
   "id": "b08aa440",
   "metadata": {
    "lines_to_next_cell": 2
   },
   "outputs": [],
   "source": [
    "scores[3] <- 85"
   ]
  },
  {
   "cell_type": "markdown",
   "id": "e7547684",
   "metadata": {},
   "source": [
    "## Saving Variables and Creating Tables\n",
    "\n",
    "Re-calculate stats given our retake and create new values to store them.\n",
    "In R you can store almost anything as a variable, and you should take advantage of that. Always save anything that you might need going forward."
   ]
  },
  {
   "cell_type": "code",
   "execution_count": 11,
   "id": "55353eab",
   "metadata": {},
   "outputs": [],
   "source": [
    "scores_mean <- mean(scores)\n",
    "scores_median <- median(scores)\n",
    "scores_sd <- sd(scores)\n",
    "# To store the values, remember to assign them to variables."
   ]
  },
  {
   "cell_type": "markdown",
   "id": "c0aa4276",
   "metadata": {
    "lines_to_next_cell": 0
   },
   "source": [
    "Now we can create a table with a function called rbind():"
   ]
  },
  {
   "cell_type": "code",
   "execution_count": 12,
   "id": "595cd02a",
   "metadata": {
    "lines_to_next_cell": 0
   },
   "outputs": [
    {
     "data": {
      "text/html": [
       "<table class=\"dataframe\">\n",
       "<caption>A matrix: 3 × 1 of type dbl</caption>\n",
       "<tbody>\n",
       "\t<tr><th scope=row>Mean</th><td>91.750000</td></tr>\n",
       "\t<tr><th scope=row>Median</th><td>93.000000</td></tr>\n",
       "\t<tr><th scope=row>SD</th><td> 4.787136</td></tr>\n",
       "</tbody>\n",
       "</table>\n"
      ],
      "text/latex": [
       "A matrix: 3 × 1 of type dbl\n",
       "\\begin{tabular}{r|l}\n",
       "\tMean & 91.750000\\\\\n",
       "\tMedian & 93.000000\\\\\n",
       "\tSD &  4.787136\\\\\n",
       "\\end{tabular}\n"
      ],
      "text/markdown": [
       "\n",
       "A matrix: 3 × 1 of type dbl\n",
       "\n",
       "| Mean | 91.750000 |\n",
       "| Median | 93.000000 |\n",
       "| SD |  4.787136 |\n",
       "\n"
      ],
      "text/plain": [
       "       [,1]     \n",
       "Mean   91.750000\n",
       "Median 93.000000\n",
       "SD      4.787136"
      ]
     },
     "metadata": {},
     "output_type": "display_data"
    }
   ],
   "source": [
    "scores_table <- rbind(Mean = scores_mean,\n",
    "                      Median = scores_median,\n",
    "                      SD = scores_sd)\n",
    "scores_table"
   ]
  },
  {
   "cell_type": "markdown",
   "id": "d05b1a79",
   "metadata": {
    "lines_to_next_cell": 0
   },
   "source": [
    "When creating the table, we save it as an object (scores_table).\n",
    "This allows us to refer back to this table at any point later in the script."
   ]
  },
  {
   "cell_type": "code",
   "execution_count": 13,
   "id": "077413b6",
   "metadata": {
    "lines_to_next_cell": 0
   },
   "outputs": [
    {
     "data": {
      "text/html": [
       "<style>\n",
       ".list-inline {list-style: none; margin:0; padding: 0}\n",
       ".list-inline>li {display: inline-block}\n",
       ".list-inline>li:not(:last-child)::after {content: \"\\00b7\"; padding: 0 .5ex}\n",
       "</style>\n",
       "<ol class=list-inline><li>'matrix'</li><li>'array'</li></ol>\n"
      ],
      "text/latex": [
       "\\begin{enumerate*}\n",
       "\\item 'matrix'\n",
       "\\item 'array'\n",
       "\\end{enumerate*}\n"
      ],
      "text/markdown": [
       "1. 'matrix'\n",
       "2. 'array'\n",
       "\n",
       "\n"
      ],
      "text/plain": [
       "[1] \"matrix\" \"array\" "
      ]
     },
     "metadata": {},
     "output_type": "display_data"
    }
   ],
   "source": [
    "class(scores_table)"
   ]
  },
  {
   "cell_type": "markdown",
   "id": "64e57f48",
   "metadata": {},
   "source": [
    "We can see that our scores_table is a matrix. Matrices are the most primitive form of table supported in R. Although matrices support both row and column names, they are not best structure to use for working with tabular data."
   ]
  },
  {
   "cell_type": "code",
   "execution_count": 14,
   "id": "cb2d0187",
   "metadata": {
    "lines_to_next_cell": 0
   },
   "outputs": [
    {
     "data": {
      "text/html": [
       "<style>\n",
       ".list-inline {list-style: none; margin:0; padding: 0}\n",
       ".list-inline>li {display: inline-block}\n",
       ".list-inline>li:not(:last-child)::after {content: \"\\00b7\"; padding: 0 .5ex}\n",
       "</style>\n",
       "<ol class=list-inline><li>'Mean'</li><li>'Median'</li><li>'SD'</li></ol>\n"
      ],
      "text/latex": [
       "\\begin{enumerate*}\n",
       "\\item 'Mean'\n",
       "\\item 'Median'\n",
       "\\item 'SD'\n",
       "\\end{enumerate*}\n"
      ],
      "text/markdown": [
       "1. 'Mean'\n",
       "2. 'Median'\n",
       "3. 'SD'\n",
       "\n",
       "\n"
      ],
      "text/plain": [
       "[1] \"Mean\"   \"Median\" \"SD\"    "
      ]
     },
     "metadata": {},
     "output_type": "display_data"
    },
    {
     "data": {
      "text/plain": [
       "NULL"
      ]
     },
     "metadata": {},
     "output_type": "display_data"
    }
   ],
   "source": [
    "rownames(scores_table)\n",
    "colnames(scores_table)"
   ]
  },
  {
   "cell_type": "markdown",
   "id": "0915dcc2",
   "metadata": {
    "lines_to_next_cell": 0
   },
   "source": [
    "Note how our column is unnamed. We can easily fix this as follows."
   ]
  },
  {
   "cell_type": "code",
   "execution_count": 15,
   "id": "84234555",
   "metadata": {
    "lines_to_next_cell": 0
   },
   "outputs": [
    {
     "data": {
      "text/html": [
       "<table class=\"dataframe\">\n",
       "<caption>A matrix: 3 × 1 of type dbl</caption>\n",
       "<thead>\n",
       "\t<tr><th></th><th scope=col>Value</th></tr>\n",
       "</thead>\n",
       "<tbody>\n",
       "\t<tr><th scope=row>Mean</th><td>91.750000</td></tr>\n",
       "\t<tr><th scope=row>Median</th><td>93.000000</td></tr>\n",
       "\t<tr><th scope=row>SD</th><td> 4.787136</td></tr>\n",
       "</tbody>\n",
       "</table>\n"
      ],
      "text/latex": [
       "A matrix: 3 × 1 of type dbl\n",
       "\\begin{tabular}{r|l}\n",
       "  & Value\\\\\n",
       "\\hline\n",
       "\tMean & 91.750000\\\\\n",
       "\tMedian & 93.000000\\\\\n",
       "\tSD &  4.787136\\\\\n",
       "\\end{tabular}\n"
      ],
      "text/markdown": [
       "\n",
       "A matrix: 3 × 1 of type dbl\n",
       "\n",
       "| <!--/--> | Value |\n",
       "|---|---|\n",
       "| Mean | 91.750000 |\n",
       "| Median | 93.000000 |\n",
       "| SD |  4.787136 |\n",
       "\n"
      ],
      "text/plain": [
       "       Value    \n",
       "Mean   91.750000\n",
       "Median 93.000000\n",
       "SD      4.787136"
      ]
     },
     "metadata": {},
     "output_type": "display_data"
    }
   ],
   "source": [
    "colnames(scores_table) <- c(\"Value\")\n",
    "scores_table"
   ]
  },
  {
   "cell_type": "markdown",
   "id": "7b219c64",
   "metadata": {
    "lines_to_next_cell": 0
   },
   "source": [
    "You can round values to the nearest whole number using the round() function:"
   ]
  },
  {
   "cell_type": "code",
   "execution_count": 16,
   "id": "37c45f47",
   "metadata": {
    "lines_to_next_cell": 0
   },
   "outputs": [
    {
     "data": {
      "text/html": [
       "<table class=\"dataframe\">\n",
       "<caption>A matrix: 3 × 1 of type dbl</caption>\n",
       "<thead>\n",
       "\t<tr><th></th><th scope=col>Value</th></tr>\n",
       "</thead>\n",
       "<tbody>\n",
       "\t<tr><th scope=row>Mean</th><td>92</td></tr>\n",
       "\t<tr><th scope=row>Median</th><td>93</td></tr>\n",
       "\t<tr><th scope=row>SD</th><td> 5</td></tr>\n",
       "</tbody>\n",
       "</table>\n"
      ],
      "text/latex": [
       "A matrix: 3 × 1 of type dbl\n",
       "\\begin{tabular}{r|l}\n",
       "  & Value\\\\\n",
       "\\hline\n",
       "\tMean & 92\\\\\n",
       "\tMedian & 93\\\\\n",
       "\tSD &  5\\\\\n",
       "\\end{tabular}\n"
      ],
      "text/markdown": [
       "\n",
       "A matrix: 3 × 1 of type dbl\n",
       "\n",
       "| <!--/--> | Value |\n",
       "|---|---|\n",
       "| Mean | 92 |\n",
       "| Median | 93 |\n",
       "| SD |  5 |\n",
       "\n"
      ],
      "text/plain": [
       "       Value\n",
       "Mean   92   \n",
       "Median 93   \n",
       "SD      5   "
      ]
     },
     "metadata": {},
     "output_type": "display_data"
    }
   ],
   "source": [
    "round(scores_table)"
   ]
  },
  {
   "cell_type": "markdown",
   "id": "5a4b468a",
   "metadata": {
    "lines_to_next_cell": 0
   },
   "source": [
    "But what if we wanted to keep a certain number of decimal places?\n",
    "We can use help() to pull up the function's documentation and investigate."
   ]
  },
  {
   "cell_type": "code",
   "execution_count": 17,
   "id": "dfba5f17",
   "metadata": {
    "lines_to_next_cell": 0
   },
   "outputs": [],
   "source": [
    "help(round)"
   ]
  },
  {
   "cell_type": "markdown",
   "id": "641e1d99",
   "metadata": {
    "lines_to_next_cell": 0
   },
   "source": [
    "Looks like we can specify an additional argument named \"digits\" to do this:"
   ]
  },
  {
   "cell_type": "code",
   "execution_count": 18,
   "id": "4821c2b6",
   "metadata": {
    "lines_to_next_cell": 0
   },
   "outputs": [
    {
     "data": {
      "text/html": [
       "<table class=\"dataframe\">\n",
       "<caption>A matrix: 3 × 1 of type dbl</caption>\n",
       "<thead>\n",
       "\t<tr><th></th><th scope=col>Value</th></tr>\n",
       "</thead>\n",
       "<tbody>\n",
       "\t<tr><th scope=row>Mean</th><td>91.75</td></tr>\n",
       "\t<tr><th scope=row>Median</th><td>93.00</td></tr>\n",
       "\t<tr><th scope=row>SD</th><td> 4.79</td></tr>\n",
       "</tbody>\n",
       "</table>\n"
      ],
      "text/latex": [
       "A matrix: 3 × 1 of type dbl\n",
       "\\begin{tabular}{r|l}\n",
       "  & Value\\\\\n",
       "\\hline\n",
       "\tMean & 91.75\\\\\n",
       "\tMedian & 93.00\\\\\n",
       "\tSD &  4.79\\\\\n",
       "\\end{tabular}\n"
      ],
      "text/markdown": [
       "\n",
       "A matrix: 3 × 1 of type dbl\n",
       "\n",
       "| <!--/--> | Value |\n",
       "|---|---|\n",
       "| Mean | 91.75 |\n",
       "| Median | 93.00 |\n",
       "| SD |  4.79 |\n",
       "\n"
      ],
      "text/plain": [
       "       Value\n",
       "Mean   91.75\n",
       "Median 93.00\n",
       "SD      4.79"
      ]
     },
     "metadata": {},
     "output_type": "display_data"
    }
   ],
   "source": [
    "round(scores_table, digits = 2)"
   ]
  },
  {
   "cell_type": "markdown",
   "id": "5bbe7e6e",
   "metadata": {
    "lines_to_next_cell": 0
   },
   "source": [
    "Omitting the name of the argument is allowed and does not change the result."
   ]
  },
  {
   "cell_type": "code",
   "execution_count": 19,
   "id": "7b7734a3",
   "metadata": {},
   "outputs": [
    {
     "data": {
      "text/html": [
       "<table class=\"dataframe\">\n",
       "<caption>A matrix: 3 × 1 of type dbl</caption>\n",
       "<thead>\n",
       "\t<tr><th></th><th scope=col>Value</th></tr>\n",
       "</thead>\n",
       "<tbody>\n",
       "\t<tr><th scope=row>Mean</th><td>91.75</td></tr>\n",
       "\t<tr><th scope=row>Median</th><td>93.00</td></tr>\n",
       "\t<tr><th scope=row>SD</th><td> 4.79</td></tr>\n",
       "</tbody>\n",
       "</table>\n"
      ],
      "text/latex": [
       "A matrix: 3 × 1 of type dbl\n",
       "\\begin{tabular}{r|l}\n",
       "  & Value\\\\\n",
       "\\hline\n",
       "\tMean & 91.75\\\\\n",
       "\tMedian & 93.00\\\\\n",
       "\tSD &  4.79\\\\\n",
       "\\end{tabular}\n"
      ],
      "text/markdown": [
       "\n",
       "A matrix: 3 × 1 of type dbl\n",
       "\n",
       "| <!--/--> | Value |\n",
       "|---|---|\n",
       "| Mean | 91.75 |\n",
       "| Median | 93.00 |\n",
       "| SD |  4.79 |\n",
       "\n"
      ],
      "text/plain": [
       "       Value\n",
       "Mean   91.75\n",
       "Median 93.00\n",
       "SD      4.79"
      ]
     },
     "metadata": {},
     "output_type": "display_data"
    }
   ],
   "source": [
    "scores_table <- round(scores_table, 2)\n",
    "scores_table"
   ]
  },
  {
   "cell_type": "markdown",
   "id": "2d0dcedd",
   "metadata": {},
   "source": [
    "Also note how on code above, we first rounded every score in scores_table to two decimal places, creating a new table. Then we assigned this table to the variable scores_table, replacing the previous table."
   ]
  },
  {
   "cell_type": "markdown",
   "id": "eec0cdd4",
   "metadata": {},
   "source": [
    ">  **To Get Support:** - Please email tts-research@tufts.edu for all Tufts HPC cluster questions and requests."
   ]
  }
 ],
 "metadata": {
  "jupytext": {
   "text_representation": {
    "extension": ".Rmd",
    "format_name": "rmarkdown"
   }
  },
  "kernelspec": {
   "display_name": "R",
   "language": "r",
   "name": "ir"
  },
  "language_info": {
   "codemirror_mode": "r",
   "file_extension": ".r",
   "mimetype": "text/x-r-source",
   "name": "R",
   "pygments_lexer": "r",
   "version": "4.1.3"
  }
 },
 "nbformat": 4,
 "nbformat_minor": 5
}